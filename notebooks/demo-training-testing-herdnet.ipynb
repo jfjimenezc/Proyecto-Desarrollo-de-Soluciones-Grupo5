{
  "cells": [
    {
      "cell_type": "markdown",
      "metadata": {
        "id": "tOMmy2YvTHSy"
      },
      "source": [
        "# DEMO - Training and testing HerdNet on nadir aerial images"
      ]
    },
    {
      "cell_type": "markdown",
      "metadata": {
        "id": "_XTpIbRwT9PO"
      },
      "source": [
        "## Installations"
      ]
    },
    {
      "cell_type": "code",
      "execution_count": 1,
      "metadata": {
        "id": "9v5ab5BbSrVl",
        "colab": {
          "base_uri": "https://localhost:8080/"
        },
        "outputId": "83c5d152-e006-4534-b074-2c7e5184b6d6"
      },
      "outputs": [
        {
          "output_type": "stream",
          "name": "stdout",
          "text": [
            "Wed Feb 26 03:14:33 2025       \n",
            "+-----------------------------------------------------------------------------------------+\n",
            "| NVIDIA-SMI 550.54.15              Driver Version: 550.54.15      CUDA Version: 12.4     |\n",
            "|-----------------------------------------+------------------------+----------------------+\n",
            "| GPU  Name                 Persistence-M | Bus-Id          Disp.A | Volatile Uncorr. ECC |\n",
            "| Fan  Temp   Perf          Pwr:Usage/Cap |           Memory-Usage | GPU-Util  Compute M. |\n",
            "|                                         |                        |               MIG M. |\n",
            "|=========================================+========================+======================|\n",
            "|   0  NVIDIA A100-SXM4-40GB          Off |   00000000:00:04.0 Off |                    0 |\n",
            "| N/A   29C    P0             42W /  400W |       0MiB /  40960MiB |      0%      Default |\n",
            "|                                         |                        |             Disabled |\n",
            "+-----------------------------------------+------------------------+----------------------+\n",
            "                                                                                         \n",
            "+-----------------------------------------------------------------------------------------+\n",
            "| Processes:                                                                              |\n",
            "|  GPU   GI   CI        PID   Type   Process name                              GPU Memory |\n",
            "|        ID   ID                                                               Usage      |\n",
            "|=========================================================================================|\n",
            "|  No running processes found                                                             |\n",
            "+-----------------------------------------------------------------------------------------+\n"
          ]
        }
      ],
      "source": [
        "# Check GPU\n",
        "!nvidia-smi"
      ]
    },
    {
      "cell_type": "code",
      "execution_count": 2,
      "metadata": {
        "id": "z9RVoQx5UOkg",
        "colab": {
          "base_uri": "https://localhost:8080/",
          "height": 1000
        },
        "outputId": "1d05895d-9c12-4225-f433-dc5dd95c3194"
      },
      "outputs": [
        {
          "output_type": "stream",
          "name": "stdout",
          "text": [
            "\u001b[33mDEPRECATION: Loading egg at /usr/local/lib/python3.11/dist-packages/animaloc-0.2.1-py3.11.egg is deprecated. pip 24.3 will enforce this behaviour change. A possible replacement is to use pip for package installation. Discussion can be found at https://github.com/pypa/pip/issues/12330\u001b[0m\u001b[33m\n",
            "\u001b[0mRequirement already satisfied: albumentations==1.0.3 in /usr/local/lib/python3.11/dist-packages (1.0.3)\n",
            "Requirement already satisfied: numpy>=1.11.1 in /usr/local/lib/python3.11/dist-packages (from albumentations==1.0.3) (1.26.4)\n",
            "Requirement already satisfied: scipy in /usr/local/lib/python3.11/dist-packages (from albumentations==1.0.3) (1.13.1)\n",
            "Requirement already satisfied: scikit-image>=0.16.1 in /usr/local/lib/python3.11/dist-packages (from albumentations==1.0.3) (0.18.1)\n",
            "Requirement already satisfied: PyYAML in /usr/local/lib/python3.11/dist-packages (from albumentations==1.0.3) (6.0.2)\n",
            "Requirement already satisfied: opencv-python-headless>=4.1.1 in /usr/local/lib/python3.11/dist-packages (from albumentations==1.0.3) (4.11.0.86)\n",
            "Requirement already satisfied: matplotlib!=3.0.0,>=2.0.0 in /usr/local/lib/python3.11/dist-packages (from scikit-image>=0.16.1->albumentations==1.0.3) (3.10.0)\n",
            "Requirement already satisfied: networkx>=2.0 in /usr/local/lib/python3.11/dist-packages (from scikit-image>=0.16.1->albumentations==1.0.3) (3.4.2)\n",
            "Requirement already satisfied: pillow!=7.1.0,!=7.1.1,>=4.3.0 in /usr/local/lib/python3.11/dist-packages (from scikit-image>=0.16.1->albumentations==1.0.3) (11.1.0)\n",
            "Requirement already satisfied: imageio>=2.3.0 in /usr/local/lib/python3.11/dist-packages (from scikit-image>=0.16.1->albumentations==1.0.3) (2.37.0)\n",
            "Requirement already satisfied: tifffile>=2019.7.26 in /usr/local/lib/python3.11/dist-packages (from scikit-image>=0.16.1->albumentations==1.0.3) (2025.2.18)\n",
            "Requirement already satisfied: PyWavelets>=1.1.1 in /usr/local/lib/python3.11/dist-packages (from scikit-image>=0.16.1->albumentations==1.0.3) (1.8.0)\n",
            "Requirement already satisfied: contourpy>=1.0.1 in /usr/local/lib/python3.11/dist-packages (from matplotlib!=3.0.0,>=2.0.0->scikit-image>=0.16.1->albumentations==1.0.3) (1.3.1)\n",
            "Requirement already satisfied: cycler>=0.10 in /usr/local/lib/python3.11/dist-packages (from matplotlib!=3.0.0,>=2.0.0->scikit-image>=0.16.1->albumentations==1.0.3) (0.12.1)\n",
            "Requirement already satisfied: fonttools>=4.22.0 in /usr/local/lib/python3.11/dist-packages (from matplotlib!=3.0.0,>=2.0.0->scikit-image>=0.16.1->albumentations==1.0.3) (4.56.0)\n",
            "Requirement already satisfied: kiwisolver>=1.3.1 in /usr/local/lib/python3.11/dist-packages (from matplotlib!=3.0.0,>=2.0.0->scikit-image>=0.16.1->albumentations==1.0.3) (1.4.8)\n",
            "Requirement already satisfied: packaging>=20.0 in /usr/local/lib/python3.11/dist-packages (from matplotlib!=3.0.0,>=2.0.0->scikit-image>=0.16.1->albumentations==1.0.3) (24.2)\n",
            "Requirement already satisfied: pyparsing>=2.3.1 in /usr/local/lib/python3.11/dist-packages (from matplotlib!=3.0.0,>=2.0.0->scikit-image>=0.16.1->albumentations==1.0.3) (3.2.1)\n",
            "Requirement already satisfied: python-dateutil>=2.7 in /usr/local/lib/python3.11/dist-packages (from matplotlib!=3.0.0,>=2.0.0->scikit-image>=0.16.1->albumentations==1.0.3) (2.8.2)\n",
            "Requirement already satisfied: six>=1.5 in /usr/local/lib/python3.11/dist-packages (from python-dateutil>=2.7->matplotlib!=3.0.0,>=2.0.0->scikit-image>=0.16.1->albumentations==1.0.3) (1.17.0)\n",
            "\u001b[33mDEPRECATION: Loading egg at /usr/local/lib/python3.11/dist-packages/animaloc-0.2.1-py3.11.egg is deprecated. pip 24.3 will enforce this behaviour change. A possible replacement is to use pip for package installation. Discussion can be found at https://github.com/pypa/pip/issues/12330\u001b[0m\u001b[33m\n",
            "\u001b[0mCollecting fiftyone==0.14.3\n",
            "  Using cached fiftyone-0.14.3-py3-none-any.whl.metadata (11 kB)\n",
            "Collecting aiofiles (from fiftyone==0.14.3)\n",
            "  Using cached aiofiles-24.1.0-py3-none-any.whl.metadata (10 kB)\n",
            "Collecting argcomplete (from fiftyone==0.14.3)\n",
            "  Using cached argcomplete-3.5.3-py3-none-any.whl.metadata (16 kB)\n",
            "Collecting boto3 (from fiftyone==0.14.3)\n",
            "  Using cached boto3-1.37.1-py3-none-any.whl.metadata (6.6 kB)\n",
            "Requirement already satisfied: Deprecated in /usr/local/lib/python3.11/dist-packages (from fiftyone==0.14.3) (1.2.18)\n",
            "Collecting eventlet (from fiftyone==0.14.3)\n",
            "  Using cached eventlet-0.39.0-py3-none-any.whl.metadata (5.5 kB)\n",
            "Requirement already satisfied: future in /usr/local/lib/python3.11/dist-packages (from fiftyone==0.14.3) (1.0.0)\n",
            "Requirement already satisfied: Jinja2 in /usr/local/lib/python3.11/dist-packages (from fiftyone==0.14.3) (3.1.5)\n",
            "Collecting kaleido (from fiftyone==0.14.3)\n",
            "  Using cached kaleido-0.2.1-py2.py3-none-manylinux1_x86_64.whl.metadata (15 kB)\n",
            "Requirement already satisfied: matplotlib in /usr/local/lib/python3.11/dist-packages (from fiftyone==0.14.3) (3.10.0)\n",
            "Collecting mongoengine==0.20.0 (from fiftyone==0.14.3)\n",
            "  Using cached mongoengine-0.20.0-py3-none-any.whl.metadata (6.5 kB)\n",
            "Collecting motor<3,>=2.3 (from fiftyone==0.14.3)\n",
            "  Using cached motor-2.5.1-py3-none-any.whl.metadata (5.8 kB)\n",
            "Requirement already satisfied: numpy in /usr/local/lib/python3.11/dist-packages (from fiftyone==0.14.3) (1.26.4)\n",
            "Requirement already satisfied: packaging in /usr/local/lib/python3.11/dist-packages (from fiftyone==0.14.3) (24.2)\n",
            "Requirement already satisfied: pandas in /usr/local/lib/python3.11/dist-packages (from fiftyone==0.14.3) (2.2.2)\n",
            "Requirement already satisfied: Pillow>=6.2 in /usr/local/lib/python3.11/dist-packages (from fiftyone==0.14.3) (11.1.0)\n",
            "Collecting plotly<5,>=4.14 (from fiftyone==0.14.3)\n",
            "  Using cached plotly-4.14.3-py2.py3-none-any.whl.metadata (7.6 kB)\n",
            "Collecting pprintpp (from fiftyone==0.14.3)\n",
            "  Using cached pprintpp-0.4.0-py2.py3-none-any.whl.metadata (7.9 kB)\n",
            "Requirement already satisfied: psutil in /usr/local/lib/python3.11/dist-packages (from fiftyone==0.14.3) (5.9.5)\n",
            "Collecting pymongo<4,>=3.11 (from fiftyone==0.14.3)\n",
            "  Using cached pymongo-3.13.0-cp311-cp311-manylinux_2_17_x86_64.manylinux2014_x86_64.whl.metadata (9.7 kB)\n",
            "Requirement already satisfied: pytz in /usr/local/lib/python3.11/dist-packages (from fiftyone==0.14.3) (2025.1)\n",
            "Requirement already satisfied: PyYAML in /usr/local/lib/python3.11/dist-packages (from fiftyone==0.14.3) (6.0.2)\n",
            "Collecting retrying (from fiftyone==0.14.3)\n",
            "  Using cached retrying-1.3.4-py3-none-any.whl.metadata (6.9 kB)\n",
            "Requirement already satisfied: scikit-learn in /usr/local/lib/python3.11/dist-packages (from fiftyone==0.14.3) (1.6.1)\n",
            "Requirement already satisfied: scikit-image in /usr/local/lib/python3.11/dist-packages (from fiftyone==0.14.3) (0.18.1)\n",
            "Requirement already satisfied: setuptools in /usr/local/lib/python3.11/dist-packages (from fiftyone==0.14.3) (75.1.0)\n",
            "Requirement already satisfied: tabulate in /usr/local/lib/python3.11/dist-packages (from fiftyone==0.14.3) (0.9.0)\n",
            "Requirement already satisfied: tornado<7,>=5.1.1 in /usr/local/lib/python3.11/dist-packages (from fiftyone==0.14.3) (6.4.2)\n",
            "Collecting xmltodict (from fiftyone==0.14.3)\n",
            "  Using cached xmltodict-0.14.2-py2.py3-none-any.whl.metadata (8.0 kB)\n",
            "Collecting universal-analytics-python3<2,>=1.0.1 (from fiftyone==0.14.3)\n",
            "  Using cached universal_analytics_python3-1.1.1-py3-none-any.whl.metadata (5.5 kB)\n",
            "INFO: pip is looking at multiple versions of fiftyone to determine which version is compatible with other requirements. This could take a while.\n",
            "\u001b[31mERROR: Ignored the following versions that require a different python version: 0.6.0 Requires-Python >=3.5,<3.9; 0.6.0.1 Requires-Python >=3.5,<3.9; 0.6.1 Requires-Python >=3.5,<3.9; 0.6.1.1 Requires-Python >=3.5,<3.9; 0.6.2 Requires-Python >=3.5,<3.9; 0.6.3 Requires-Python >=3.5,<3.9; 0.6.4 Requires-Python >=3.5,<3.9; 0.6.5 Requires-Python >=3.5,<3.9; 0.6.5.1 Requires-Python >=3.5,<3.9; 0.6.5.2 Requires-Python >=3.5,<3.9; 0.6.6 Requires-Python >=3.5,<3.9; 0.7.0 Requires-Python >=3.5,<3.9\u001b[0m\u001b[31m\n",
            "\u001b[0m\u001b[31mERROR: Could not find a version that satisfies the requirement fiftyone-brain<0.8,>=0.7.3 (from fiftyone) (from versions: 0.8.2, 0.9.0, 0.9.1, 0.9.2, 0.10.0, 0.11.0rc1, 0.11.0rc2, 0.11.0, 0.12.0, 0.13.0, 0.13.1, 0.13.2, 0.13.3, 0.13.4, 0.14.0, 0.14.1, 0.14.2, 0.15.0, 0.16.0, 0.16.1, 0.17.0rc1, 0.17.0, 0.18.1, 0.18.2, 0.19.0)\u001b[0m\u001b[31m\n",
            "\u001b[0m\u001b[31mERROR: No matching distribution found for fiftyone-brain<0.8,>=0.7.3\u001b[0m\u001b[31m\n",
            "\u001b[0m\u001b[33mDEPRECATION: Loading egg at /usr/local/lib/python3.11/dist-packages/animaloc-0.2.1-py3.11.egg is deprecated. pip 24.3 will enforce this behaviour change. A possible replacement is to use pip for package installation. Discussion can be found at https://github.com/pypa/pip/issues/12330\u001b[0m\u001b[33m\n",
            "\u001b[0mRequirement already satisfied: hydra-core==1.1.0 in /usr/local/lib/python3.11/dist-packages (1.1.0)\n",
            "Requirement already satisfied: omegaconf==2.1.* in /usr/local/lib/python3.11/dist-packages (from hydra-core==1.1.0) (2.1.2)\n",
            "Requirement already satisfied: antlr4-python3-runtime==4.8 in /usr/local/lib/python3.11/dist-packages (from hydra-core==1.1.0) (4.8)\n",
            "Requirement already satisfied: PyYAML>=5.1.0 in /usr/local/lib/python3.11/dist-packages (from omegaconf==2.1.*->hydra-core==1.1.0) (6.0.2)\n",
            "\u001b[33mDEPRECATION: Loading egg at /usr/local/lib/python3.11/dist-packages/animaloc-0.2.1-py3.11.egg is deprecated. pip 24.3 will enforce this behaviour change. A possible replacement is to use pip for package installation. Discussion can be found at https://github.com/pypa/pip/issues/12330\u001b[0m\u001b[33m\n",
            "\u001b[0mCollecting opencv-python==4.5.1.48\n",
            "  Using cached opencv-python-4.5.1.48.tar.gz (88.3 MB)\n",
            "  \u001b[1;31merror\u001b[0m: \u001b[1msubprocess-exited-with-error\u001b[0m\n",
            "  \n",
            "  \u001b[31m×\u001b[0m \u001b[32mpip subprocess to install build dependencies\u001b[0m did not run successfully.\n",
            "  \u001b[31m│\u001b[0m exit code: \u001b[1;36m1\u001b[0m\n",
            "  \u001b[31m╰─>\u001b[0m See above for output.\n",
            "  \n",
            "  \u001b[1;35mnote\u001b[0m: This error originates from a subprocess, and is likely not a problem with pip.\n",
            "  Installing build dependencies ... \u001b[?25l\u001b[?25herror\n",
            "\u001b[1;31merror\u001b[0m: \u001b[1msubprocess-exited-with-error\u001b[0m\n",
            "\n",
            "\u001b[31m×\u001b[0m \u001b[32mpip subprocess to install build dependencies\u001b[0m did not run successfully.\n",
            "\u001b[31m│\u001b[0m exit code: \u001b[1;36m1\u001b[0m\n",
            "\u001b[31m╰─>\u001b[0m See above for output.\n",
            "\n",
            "\u001b[1;35mnote\u001b[0m: This error originates from a subprocess, and is likely not a problem with pip.\n",
            "\u001b[33mDEPRECATION: Loading egg at /usr/local/lib/python3.11/dist-packages/animaloc-0.2.1-py3.11.egg is deprecated. pip 24.3 will enforce this behaviour change. A possible replacement is to use pip for package installation. Discussion can be found at https://github.com/pypa/pip/issues/12330\u001b[0m\u001b[33m\n",
            "\u001b[0mCollecting pandas==1.2.3\n",
            "  Using cached pandas-1.2.3.tar.gz (5.5 MB)\n",
            "  Installing build dependencies ... \u001b[?25l\u001b[?25hdone\n",
            "  Getting requirements to build wheel ... \u001b[?25l\u001b[?25hdone\n",
            "  Preparing metadata (pyproject.toml) ... \u001b[?25l\u001b[?25hdone\n",
            "Requirement already satisfied: python-dateutil>=2.7.3 in /usr/local/lib/python3.11/dist-packages (from pandas==1.2.3) (2.8.2)\n",
            "Requirement already satisfied: pytz>=2017.3 in /usr/local/lib/python3.11/dist-packages (from pandas==1.2.3) (2025.1)\n",
            "Requirement already satisfied: numpy>=1.16.5 in /usr/local/lib/python3.11/dist-packages (from pandas==1.2.3) (1.26.4)\n",
            "Requirement already satisfied: six>=1.5 in /usr/local/lib/python3.11/dist-packages (from python-dateutil>=2.7.3->pandas==1.2.3) (1.17.0)\n",
            "Building wheels for collected packages: pandas\n",
            "  \u001b[1;31merror\u001b[0m: \u001b[1msubprocess-exited-with-error\u001b[0m\n",
            "  \n",
            "  \u001b[31m×\u001b[0m \u001b[32mBuilding wheel for pandas \u001b[0m\u001b[1;32m(\u001b[0m\u001b[32mpyproject.toml\u001b[0m\u001b[1;32m)\u001b[0m did not run successfully.\n",
            "  \u001b[31m│\u001b[0m exit code: \u001b[1;36m1\u001b[0m\n",
            "  \u001b[31m╰─>\u001b[0m See above for output.\n",
            "  \n",
            "  \u001b[1;35mnote\u001b[0m: This error originates from a subprocess, and is likely not a problem with pip.\n",
            "  Building wheel for pandas (pyproject.toml) ... \u001b[?25l\u001b[?25herror\n",
            "\u001b[31m  ERROR: Failed building wheel for pandas\u001b[0m\u001b[31m\n",
            "\u001b[0mFailed to build pandas\n",
            "\u001b[31mERROR: ERROR: Failed to build installable wheels for some pyproject.toml based projects (pandas)\u001b[0m\u001b[31m\n",
            "\u001b[0m\u001b[33mDEPRECATION: Loading egg at /usr/local/lib/python3.11/dist-packages/animaloc-0.2.1-py3.11.egg is deprecated. pip 24.3 will enforce this behaviour change. A possible replacement is to use pip for package installation. Discussion can be found at https://github.com/pypa/pip/issues/12330\u001b[0m\u001b[33m\n",
            "\u001b[0mCollecting pillow==8.2.0\n",
            "  Using cached Pillow-8.2.0-cp311-cp311-linux_x86_64.whl\n",
            "Installing collected packages: pillow\n",
            "  Attempting uninstall: pillow\n",
            "    Found existing installation: pillow 11.1.0\n",
            "    Uninstalling pillow-11.1.0:\n",
            "      Successfully uninstalled pillow-11.1.0\n",
            "\u001b[31mERROR: pip's dependency resolver does not currently take into account all the packages that are installed. This behaviour is the source of the following dependency conflicts.\n",
            "fastai 2.7.18 requires pillow>=9.0.0, but you have pillow 8.2.0 which is incompatible.\n",
            "imageio 2.37.0 requires pillow>=8.3.2, but you have pillow 8.2.0 which is incompatible.\u001b[0m\u001b[31m\n",
            "\u001b[0mSuccessfully installed pillow-8.2.0\n"
          ]
        },
        {
          "output_type": "display_data",
          "data": {
            "application/vnd.colab-display-data+json": {
              "pip_warning": {
                "packages": [
                  "PIL"
                ]
              },
              "id": "e7d7ad9cbb7549eb9581c4a5b49ad95e"
            }
          },
          "metadata": {}
        },
        {
          "output_type": "stream",
          "name": "stdout",
          "text": [
            "\u001b[33mDEPRECATION: Loading egg at /usr/local/lib/python3.11/dist-packages/animaloc-0.2.1-py3.11.egg is deprecated. pip 24.3 will enforce this behaviour change. A possible replacement is to use pip for package installation. Discussion can be found at https://github.com/pypa/pip/issues/12330\u001b[0m\u001b[33m\n",
            "\u001b[0mRequirement already satisfied: scikit-image==0.18.1 in /usr/local/lib/python3.11/dist-packages (0.18.1)\n",
            "Requirement already satisfied: numpy>=1.16.5 in /usr/local/lib/python3.11/dist-packages (from scikit-image==0.18.1) (1.26.4)\n",
            "Requirement already satisfied: scipy>=1.0.1 in /usr/local/lib/python3.11/dist-packages (from scikit-image==0.18.1) (1.13.1)\n",
            "Requirement already satisfied: matplotlib!=3.0.0,>=2.0.0 in /usr/local/lib/python3.11/dist-packages (from scikit-image==0.18.1) (3.10.0)\n",
            "Requirement already satisfied: networkx>=2.0 in /usr/local/lib/python3.11/dist-packages (from scikit-image==0.18.1) (3.4.2)\n",
            "Requirement already satisfied: pillow!=7.1.0,!=7.1.1,>=4.3.0 in /usr/local/lib/python3.11/dist-packages (from scikit-image==0.18.1) (8.2.0)\n",
            "Requirement already satisfied: imageio>=2.3.0 in /usr/local/lib/python3.11/dist-packages (from scikit-image==0.18.1) (2.37.0)\n",
            "Requirement already satisfied: tifffile>=2019.7.26 in /usr/local/lib/python3.11/dist-packages (from scikit-image==0.18.1) (2025.2.18)\n",
            "Requirement already satisfied: PyWavelets>=1.1.1 in /usr/local/lib/python3.11/dist-packages (from scikit-image==0.18.1) (1.8.0)\n",
            "Collecting pillow!=7.1.0,!=7.1.1,>=4.3.0 (from scikit-image==0.18.1)\n",
            "  Using cached pillow-11.1.0-cp311-cp311-manylinux_2_28_x86_64.whl.metadata (9.1 kB)\n",
            "Requirement already satisfied: contourpy>=1.0.1 in /usr/local/lib/python3.11/dist-packages (from matplotlib!=3.0.0,>=2.0.0->scikit-image==0.18.1) (1.3.1)\n",
            "Requirement already satisfied: cycler>=0.10 in /usr/local/lib/python3.11/dist-packages (from matplotlib!=3.0.0,>=2.0.0->scikit-image==0.18.1) (0.12.1)\n",
            "Requirement already satisfied: fonttools>=4.22.0 in /usr/local/lib/python3.11/dist-packages (from matplotlib!=3.0.0,>=2.0.0->scikit-image==0.18.1) (4.56.0)\n",
            "Requirement already satisfied: kiwisolver>=1.3.1 in /usr/local/lib/python3.11/dist-packages (from matplotlib!=3.0.0,>=2.0.0->scikit-image==0.18.1) (1.4.8)\n",
            "Requirement already satisfied: packaging>=20.0 in /usr/local/lib/python3.11/dist-packages (from matplotlib!=3.0.0,>=2.0.0->scikit-image==0.18.1) (24.2)\n",
            "Requirement already satisfied: pyparsing>=2.3.1 in /usr/local/lib/python3.11/dist-packages (from matplotlib!=3.0.0,>=2.0.0->scikit-image==0.18.1) (3.2.1)\n",
            "Requirement already satisfied: python-dateutil>=2.7 in /usr/local/lib/python3.11/dist-packages (from matplotlib!=3.0.0,>=2.0.0->scikit-image==0.18.1) (2.8.2)\n",
            "Requirement already satisfied: six>=1.5 in /usr/local/lib/python3.11/dist-packages (from python-dateutil>=2.7->matplotlib!=3.0.0,>=2.0.0->scikit-image==0.18.1) (1.17.0)\n",
            "Using cached pillow-11.1.0-cp311-cp311-manylinux_2_28_x86_64.whl (4.5 MB)\n",
            "Installing collected packages: pillow\n",
            "  Attempting uninstall: pillow\n",
            "    Found existing installation: Pillow 8.2.0\n",
            "    Uninstalling Pillow-8.2.0:\n",
            "      Successfully uninstalled Pillow-8.2.0\n",
            "Successfully installed pillow-11.1.0\n"
          ]
        },
        {
          "output_type": "display_data",
          "data": {
            "application/vnd.colab-display-data+json": {
              "pip_warning": {
                "packages": [
                  "PIL"
                ]
              },
              "id": "c47bdd7f4aaf4b4095666998e39d247f"
            }
          },
          "metadata": {}
        },
        {
          "output_type": "stream",
          "name": "stdout",
          "text": [
            "\u001b[33mDEPRECATION: Loading egg at /usr/local/lib/python3.11/dist-packages/animaloc-0.2.1-py3.11.egg is deprecated. pip 24.3 will enforce this behaviour change. A possible replacement is to use pip for package installation. Discussion can be found at https://github.com/pypa/pip/issues/12330\u001b[0m\u001b[33m\n",
            "\u001b[0mCollecting scikit-learn==1.0.2\n",
            "  Using cached scikit-learn-1.0.2.tar.gz (6.7 MB)\n",
            "  Installing build dependencies ... \u001b[?25l\u001b[?25hdone\n",
            "  Getting requirements to build wheel ... \u001b[?25l\u001b[?25hdone\n",
            "  \u001b[1;31merror\u001b[0m: \u001b[1msubprocess-exited-with-error\u001b[0m\n",
            "  \n",
            "  \u001b[31m×\u001b[0m \u001b[32mPreparing metadata \u001b[0m\u001b[1;32m(\u001b[0m\u001b[32mpyproject.toml\u001b[0m\u001b[1;32m)\u001b[0m did not run successfully.\n",
            "  \u001b[31m│\u001b[0m exit code: \u001b[1;36m1\u001b[0m\n",
            "  \u001b[31m╰─>\u001b[0m See above for output.\n",
            "  \n",
            "  \u001b[1;35mnote\u001b[0m: This error originates from a subprocess, and is likely not a problem with pip.\n",
            "  Preparing metadata (pyproject.toml) ... \u001b[?25l\u001b[?25herror\n",
            "\u001b[1;31merror\u001b[0m: \u001b[1mmetadata-generation-failed\u001b[0m\n",
            "\n",
            "\u001b[31m×\u001b[0m Encountered error while generating package metadata.\n",
            "\u001b[31m╰─>\u001b[0m See above for output.\n",
            "\n",
            "\u001b[1;35mnote\u001b[0m: This is an issue with the package mentioned above, not pip.\n",
            "\u001b[1;36mhint\u001b[0m: See above for details.\n",
            "\u001b[33mDEPRECATION: Loading egg at /usr/local/lib/python3.11/dist-packages/animaloc-0.2.1-py3.11.egg is deprecated. pip 24.3 will enforce this behaviour change. A possible replacement is to use pip for package installation. Discussion can be found at https://github.com/pypa/pip/issues/12330\u001b[0m\u001b[33m\n",
            "\u001b[0m\u001b[31mERROR: Ignored the following yanked versions: 1.11.0, 1.14.0rc1\u001b[0m\u001b[31m\n",
            "\u001b[0m\u001b[31mERROR: Ignored the following versions that require a different python version: 1.6.2 Requires-Python >=3.7,<3.10; 1.6.3 Requires-Python >=3.7,<3.10; 1.7.0 Requires-Python >=3.7,<3.10; 1.7.1 Requires-Python >=3.7,<3.10; 1.7.2 Requires-Python >=3.7,<3.11; 1.7.3 Requires-Python >=3.7,<3.11; 1.8.0 Requires-Python >=3.8,<3.11; 1.8.0rc1 Requires-Python >=3.8,<3.11; 1.8.0rc2 Requires-Python >=3.8,<3.11; 1.8.0rc3 Requires-Python >=3.8,<3.11; 1.8.0rc4 Requires-Python >=3.8,<3.11; 1.8.1 Requires-Python >=3.8,<3.11\u001b[0m\u001b[31m\n",
            "\u001b[0m\u001b[31mERROR: Could not find a version that satisfies the requirement scipy==1.6.2 (from versions: 0.8.0, 0.9.0, 0.10.0, 0.10.1, 0.11.0, 0.12.0, 0.12.1, 0.13.0, 0.13.1, 0.13.2, 0.13.3, 0.14.0, 0.14.1, 0.15.0, 0.15.1, 0.16.0, 0.16.1, 0.17.0, 0.17.1, 0.18.0, 0.18.1, 0.19.0, 0.19.1, 1.0.0, 1.0.1, 1.1.0, 1.2.0, 1.2.1, 1.2.2, 1.2.3, 1.3.0, 1.3.1, 1.3.2, 1.3.3, 1.4.0, 1.4.1, 1.5.0, 1.5.1, 1.5.2, 1.5.3, 1.5.4, 1.6.0, 1.6.1, 1.9.0rc1, 1.9.0rc2, 1.9.0rc3, 1.9.0, 1.9.1, 1.9.2, 1.9.3, 1.10.0rc1, 1.10.0rc2, 1.10.0, 1.10.1, 1.11.0rc1, 1.11.0rc2, 1.11.1, 1.11.2, 1.11.3, 1.11.4, 1.12.0rc1, 1.12.0rc2, 1.12.0, 1.13.0rc1, 1.13.0, 1.13.1, 1.14.0rc2, 1.14.0, 1.14.1, 1.15.0rc1, 1.15.0rc2, 1.15.0, 1.15.1, 1.15.2)\u001b[0m\u001b[31m\n",
            "\u001b[0m\u001b[31mERROR: No matching distribution found for scipy==1.6.2\u001b[0m\u001b[31m\n",
            "\u001b[0m\u001b[33mDEPRECATION: Loading egg at /usr/local/lib/python3.11/dist-packages/animaloc-0.2.1-py3.11.egg is deprecated. pip 24.3 will enforce this behaviour change. A possible replacement is to use pip for package installation. Discussion can be found at https://github.com/pypa/pip/issues/12330\u001b[0m\u001b[33m\n",
            "\u001b[0mRequirement already satisfied: wandb==0.10.33 in /usr/local/lib/python3.11/dist-packages (0.10.33)\n",
            "Requirement already satisfied: Click!=8.0.0,>=7.0 in /usr/local/lib/python3.11/dist-packages (from wandb==0.10.33) (8.1.8)\n",
            "Requirement already satisfied: GitPython>=1.0.0 in /usr/local/lib/python3.11/dist-packages (from wandb==0.10.33) (3.1.44)\n",
            "Requirement already satisfied: python-dateutil>=2.6.1 in /usr/local/lib/python3.11/dist-packages (from wandb==0.10.33) (2.8.2)\n",
            "Requirement already satisfied: requests<3,>=2.0.0 in /usr/local/lib/python3.11/dist-packages (from wandb==0.10.33) (2.32.3)\n",
            "Requirement already satisfied: promise<3,>=2.0 in /usr/local/lib/python3.11/dist-packages (from wandb==0.10.33) (2.3)\n",
            "Requirement already satisfied: shortuuid>=0.5.0 in /usr/local/lib/python3.11/dist-packages (from wandb==0.10.33) (1.0.13)\n",
            "Requirement already satisfied: six>=1.13.0 in /usr/local/lib/python3.11/dist-packages (from wandb==0.10.33) (1.17.0)\n",
            "Requirement already satisfied: psutil>=5.0.0 in /usr/local/lib/python3.11/dist-packages (from wandb==0.10.33) (5.9.5)\n",
            "Requirement already satisfied: sentry-sdk>=0.4.0 in /usr/local/lib/python3.11/dist-packages (from wandb==0.10.33) (2.22.0)\n",
            "Requirement already satisfied: subprocess32>=3.5.3 in /usr/local/lib/python3.11/dist-packages (from wandb==0.10.33) (3.5.4)\n",
            "Requirement already satisfied: docker-pycreds>=0.4.0 in /usr/local/lib/python3.11/dist-packages (from wandb==0.10.33) (0.4.0)\n",
            "Requirement already satisfied: configparser>=3.8.1 in /usr/local/lib/python3.11/dist-packages (from wandb==0.10.33) (7.1.0)\n",
            "Requirement already satisfied: protobuf>=3.12.0 in /usr/local/lib/python3.11/dist-packages (from wandb==0.10.33) (3.20.3)\n",
            "Requirement already satisfied: PyYAML in /usr/local/lib/python3.11/dist-packages (from wandb==0.10.33) (6.0.2)\n",
            "Requirement already satisfied: pathtools in /usr/local/lib/python3.11/dist-packages (from wandb==0.10.33) (0.1.2)\n",
            "Requirement already satisfied: gitdb<5,>=4.0.1 in /usr/local/lib/python3.11/dist-packages (from GitPython>=1.0.0->wandb==0.10.33) (4.0.12)\n",
            "Requirement already satisfied: charset-normalizer<4,>=2 in /usr/local/lib/python3.11/dist-packages (from requests<3,>=2.0.0->wandb==0.10.33) (3.4.1)\n",
            "Requirement already satisfied: idna<4,>=2.5 in /usr/local/lib/python3.11/dist-packages (from requests<3,>=2.0.0->wandb==0.10.33) (3.10)\n",
            "Requirement already satisfied: urllib3<3,>=1.21.1 in /usr/local/lib/python3.11/dist-packages (from requests<3,>=2.0.0->wandb==0.10.33) (2.3.0)\n",
            "Requirement already satisfied: certifi>=2017.4.17 in /usr/local/lib/python3.11/dist-packages (from requests<3,>=2.0.0->wandb==0.10.33) (2025.1.31)\n",
            "Requirement already satisfied: smmap<6,>=3.0.1 in /usr/local/lib/python3.11/dist-packages (from gitdb<5,>=4.0.1->GitPython>=1.0.0->wandb==0.10.33) (5.0.2)\n",
            "\u001b[33mDEPRECATION: Loading egg at /usr/local/lib/python3.11/dist-packages/animaloc-0.2.1-py3.11.egg is deprecated. pip 24.3 will enforce this behaviour change. A possible replacement is to use pip for package installation. Discussion can be found at https://github.com/pypa/pip/issues/12330\u001b[0m\u001b[33m\n",
            "\u001b[0mRequirement already satisfied: protobuf==3.20.* in /usr/local/lib/python3.11/dist-packages (3.20.3)\n"
          ]
        }
      ],
      "source": [
        "# Install the dependencies\n",
        "!pip install albumentations==1.0.3\n",
        "!pip install fiftyone==0.14.3\n",
        "!pip install hydra-core==1.1.0\n",
        "!pip install opencv-python==4.5.1.48\n",
        "!pip install pandas==1.2.3\n",
        "!pip install pillow==8.2.0\n",
        "!pip install scikit-image==0.18.1\n",
        "!pip install scikit-learn==1.0.2\n",
        "!pip install scipy==1.6.2\n",
        "!pip install wandb==0.10.33\n",
        "!pip install protobuf==3.20.*"
      ]
    },
    {
      "cell_type": "code",
      "execution_count": 3,
      "metadata": {
        "id": "oJydpjxoUGAC",
        "colab": {
          "base_uri": "https://localhost:8080/"
        },
        "outputId": "fe574207-1e62-46d3-db17-732c0a624be0"
      },
      "outputs": [
        {
          "output_type": "stream",
          "name": "stdout",
          "text": [
            "fatal: destination path 'HerdNet' already exists and is not an empty directory.\n",
            "running install\n",
            "/usr/local/lib/python3.11/dist-packages/setuptools/_distutils/cmd.py:66: SetuptoolsDeprecationWarning: setup.py install is deprecated.\n",
            "!!\n",
            "\n",
            "        ********************************************************************************\n",
            "        Please avoid running ``setup.py`` directly.\n",
            "        Instead, use pypa/build, pypa/installer or other\n",
            "        standards-based tools.\n",
            "\n",
            "        See https://blog.ganssle.io/articles/2021/10/setup-py-deprecated.html for details.\n",
            "        ********************************************************************************\n",
            "\n",
            "!!\n",
            "  self.initialize_options()\n",
            "/usr/local/lib/python3.11/dist-packages/setuptools/_distutils/cmd.py:66: EasyInstallDeprecationWarning: easy_install command is deprecated.\n",
            "!!\n",
            "\n",
            "        ********************************************************************************\n",
            "        Please avoid running ``setup.py`` and ``easy_install``.\n",
            "        Instead, use pypa/build, pypa/installer or other\n",
            "        standards-based tools.\n",
            "\n",
            "        See https://github.com/pypa/setuptools/issues/917 for details.\n",
            "        ********************************************************************************\n",
            "\n",
            "!!\n",
            "  self.initialize_options()\n",
            "running bdist_egg\n",
            "running egg_info\n",
            "writing animaloc.egg-info/PKG-INFO\n",
            "writing dependency_links to animaloc.egg-info/dependency_links.txt\n",
            "writing top-level names to animaloc.egg-info/top_level.txt\n",
            "reading manifest file 'animaloc.egg-info/SOURCES.txt'\n",
            "writing manifest file 'animaloc.egg-info/SOURCES.txt'\n",
            "installing library code to build/bdist.linux-x86_64/egg\n",
            "running install_lib\n",
            "running build_py\n",
            "copying animaloc/__init__.py -> build/lib/animaloc\n",
            "copying animaloc/datasets/csv.py -> build/lib/animaloc/datasets\n",
            "copying animaloc/datasets/__init__.py -> build/lib/animaloc/datasets\n",
            "copying animaloc/datasets/patched.py -> build/lib/animaloc/datasets\n",
            "copying animaloc/datasets/folder.py -> build/lib/animaloc/datasets\n",
            "copying animaloc/datasets/register.py -> build/lib/animaloc/datasets\n",
            "copying animaloc/data/annotations.py -> build/lib/animaloc/data\n",
            "copying animaloc/data/utils.py -> build/lib/animaloc/data\n",
            "copying animaloc/data/__init__.py -> build/lib/animaloc/data\n",
            "copying animaloc/data/processors.py -> build/lib/animaloc/data\n",
            "copying animaloc/data/patches.py -> build/lib/animaloc/data\n",
            "copying animaloc/data/samplers.py -> build/lib/animaloc/data\n",
            "copying animaloc/data/transforms.py -> build/lib/animaloc/data\n",
            "copying animaloc/data/types.py -> build/lib/animaloc/data\n",
            "copying animaloc/data/batch_utils.py -> build/lib/animaloc/data\n",
            "copying animaloc/utils/timer.py -> build/lib/animaloc/utils\n",
            "copying animaloc/utils/seed.py -> build/lib/animaloc/utils\n",
            "copying animaloc/utils/registry.py -> build/lib/animaloc/utils\n",
            "copying animaloc/utils/__init__.py -> build/lib/animaloc/utils\n",
            "copying animaloc/utils/logger.py -> build/lib/animaloc/utils\n",
            "copying animaloc/utils/useful_funcs.py -> build/lib/animaloc/utils\n",
            "copying animaloc/utils/torchvision_utils.py -> build/lib/animaloc/utils\n",
            "copying animaloc/models/utils.py -> build/lib/animaloc/models\n",
            "copying animaloc/models/__init__.py -> build/lib/animaloc/models\n",
            "copying animaloc/models/ss_dla.py -> build/lib/animaloc/models\n",
            "copying animaloc/models/faster_rcnn.py -> build/lib/animaloc/models\n",
            "copying animaloc/models/herdnet.py -> build/lib/animaloc/models\n",
            "copying animaloc/models/dla.py -> build/lib/animaloc/models\n",
            "copying animaloc/models/register.py -> build/lib/animaloc/models\n",
            "copying animaloc/eval/lmds.py -> build/lib/animaloc/eval\n",
            "copying animaloc/eval/utils.py -> build/lib/animaloc/eval\n",
            "copying animaloc/eval/evaluators.py -> build/lib/animaloc/eval\n",
            "copying animaloc/eval/stitchers.py -> build/lib/animaloc/eval\n",
            "copying animaloc/eval/__init__.py -> build/lib/animaloc/eval\n",
            "copying animaloc/eval/metrics.py -> build/lib/animaloc/eval\n",
            "copying animaloc/train/__init__.py -> build/lib/animaloc/train\n",
            "copying animaloc/train/trainers.py -> build/lib/animaloc/train\n",
            "copying animaloc/train/adaloss.py -> build/lib/animaloc/train\n",
            "copying animaloc/vizual/plots.py -> build/lib/animaloc/vizual\n",
            "copying animaloc/vizual/__init__.py -> build/lib/animaloc/vizual\n",
            "copying animaloc/vizual/objects.py -> build/lib/animaloc/vizual\n",
            "copying animaloc/vizual/image.py -> build/lib/animaloc/vizual\n",
            "copying animaloc/train/losses/ssim.py -> build/lib/animaloc/train/losses\n",
            "copying animaloc/train/losses/__init__.py -> build/lib/animaloc/train/losses\n",
            "copying animaloc/train/losses/focal.py -> build/lib/animaloc/train/losses\n",
            "copying animaloc/train/losses/register.py -> build/lib/animaloc/train/losses\n",
            "creating build/bdist.linux-x86_64/egg\n",
            "creating build/bdist.linux-x86_64/egg/animaloc\n",
            "creating build/bdist.linux-x86_64/egg/animaloc/datasets\n",
            "copying build/lib/animaloc/datasets/csv.py -> build/bdist.linux-x86_64/egg/animaloc/datasets\n",
            "copying build/lib/animaloc/datasets/__init__.py -> build/bdist.linux-x86_64/egg/animaloc/datasets\n",
            "copying build/lib/animaloc/datasets/patched.py -> build/bdist.linux-x86_64/egg/animaloc/datasets\n",
            "copying build/lib/animaloc/datasets/folder.py -> build/bdist.linux-x86_64/egg/animaloc/datasets\n",
            "copying build/lib/animaloc/datasets/register.py -> build/bdist.linux-x86_64/egg/animaloc/datasets\n",
            "creating build/bdist.linux-x86_64/egg/animaloc/data\n",
            "copying build/lib/animaloc/data/annotations.py -> build/bdist.linux-x86_64/egg/animaloc/data\n",
            "copying build/lib/animaloc/data/utils.py -> build/bdist.linux-x86_64/egg/animaloc/data\n",
            "copying build/lib/animaloc/data/__init__.py -> build/bdist.linux-x86_64/egg/animaloc/data\n",
            "copying build/lib/animaloc/data/processors.py -> build/bdist.linux-x86_64/egg/animaloc/data\n",
            "copying build/lib/animaloc/data/patches.py -> build/bdist.linux-x86_64/egg/animaloc/data\n",
            "copying build/lib/animaloc/data/samplers.py -> build/bdist.linux-x86_64/egg/animaloc/data\n",
            "copying build/lib/animaloc/data/transforms.py -> build/bdist.linux-x86_64/egg/animaloc/data\n",
            "copying build/lib/animaloc/data/types.py -> build/bdist.linux-x86_64/egg/animaloc/data\n",
            "copying build/lib/animaloc/data/batch_utils.py -> build/bdist.linux-x86_64/egg/animaloc/data\n",
            "creating build/bdist.linux-x86_64/egg/animaloc/utils\n",
            "copying build/lib/animaloc/utils/timer.py -> build/bdist.linux-x86_64/egg/animaloc/utils\n",
            "copying build/lib/animaloc/utils/seed.py -> build/bdist.linux-x86_64/egg/animaloc/utils\n",
            "copying build/lib/animaloc/utils/registry.py -> build/bdist.linux-x86_64/egg/animaloc/utils\n",
            "copying build/lib/animaloc/utils/__init__.py -> build/bdist.linux-x86_64/egg/animaloc/utils\n",
            "copying build/lib/animaloc/utils/logger.py -> build/bdist.linux-x86_64/egg/animaloc/utils\n",
            "copying build/lib/animaloc/utils/useful_funcs.py -> build/bdist.linux-x86_64/egg/animaloc/utils\n",
            "copying build/lib/animaloc/utils/torchvision_utils.py -> build/bdist.linux-x86_64/egg/animaloc/utils\n",
            "creating build/bdist.linux-x86_64/egg/animaloc/models\n",
            "copying build/lib/animaloc/models/utils.py -> build/bdist.linux-x86_64/egg/animaloc/models\n",
            "copying build/lib/animaloc/models/__init__.py -> build/bdist.linux-x86_64/egg/animaloc/models\n",
            "copying build/lib/animaloc/models/ss_dla.py -> build/bdist.linux-x86_64/egg/animaloc/models\n",
            "copying build/lib/animaloc/models/faster_rcnn.py -> build/bdist.linux-x86_64/egg/animaloc/models\n",
            "copying build/lib/animaloc/models/herdnet.py -> build/bdist.linux-x86_64/egg/animaloc/models\n",
            "copying build/lib/animaloc/models/dla.py -> build/bdist.linux-x86_64/egg/animaloc/models\n",
            "copying build/lib/animaloc/models/register.py -> build/bdist.linux-x86_64/egg/animaloc/models\n",
            "copying build/lib/animaloc/__init__.py -> build/bdist.linux-x86_64/egg/animaloc\n",
            "creating build/bdist.linux-x86_64/egg/animaloc/eval\n",
            "copying build/lib/animaloc/eval/lmds.py -> build/bdist.linux-x86_64/egg/animaloc/eval\n",
            "copying build/lib/animaloc/eval/utils.py -> build/bdist.linux-x86_64/egg/animaloc/eval\n",
            "copying build/lib/animaloc/eval/evaluators.py -> build/bdist.linux-x86_64/egg/animaloc/eval\n",
            "copying build/lib/animaloc/eval/stitchers.py -> build/bdist.linux-x86_64/egg/animaloc/eval\n",
            "copying build/lib/animaloc/eval/__init__.py -> build/bdist.linux-x86_64/egg/animaloc/eval\n",
            "copying build/lib/animaloc/eval/metrics.py -> build/bdist.linux-x86_64/egg/animaloc/eval\n",
            "creating build/bdist.linux-x86_64/egg/animaloc/train\n",
            "copying build/lib/animaloc/train/__init__.py -> build/bdist.linux-x86_64/egg/animaloc/train\n",
            "copying build/lib/animaloc/train/trainers.py -> build/bdist.linux-x86_64/egg/animaloc/train\n",
            "copying build/lib/animaloc/train/adaloss.py -> build/bdist.linux-x86_64/egg/animaloc/train\n",
            "creating build/bdist.linux-x86_64/egg/animaloc/train/losses\n",
            "copying build/lib/animaloc/train/losses/ssim.py -> build/bdist.linux-x86_64/egg/animaloc/train/losses\n",
            "copying build/lib/animaloc/train/losses/__init__.py -> build/bdist.linux-x86_64/egg/animaloc/train/losses\n",
            "copying build/lib/animaloc/train/losses/focal.py -> build/bdist.linux-x86_64/egg/animaloc/train/losses\n",
            "copying build/lib/animaloc/train/losses/register.py -> build/bdist.linux-x86_64/egg/animaloc/train/losses\n",
            "creating build/bdist.linux-x86_64/egg/animaloc/vizual\n",
            "copying build/lib/animaloc/vizual/plots.py -> build/bdist.linux-x86_64/egg/animaloc/vizual\n",
            "copying build/lib/animaloc/vizual/__init__.py -> build/bdist.linux-x86_64/egg/animaloc/vizual\n",
            "copying build/lib/animaloc/vizual/objects.py -> build/bdist.linux-x86_64/egg/animaloc/vizual\n",
            "copying build/lib/animaloc/vizual/image.py -> build/bdist.linux-x86_64/egg/animaloc/vizual\n",
            "byte-compiling build/bdist.linux-x86_64/egg/animaloc/datasets/csv.py to csv.cpython-311.pyc\n",
            "byte-compiling build/bdist.linux-x86_64/egg/animaloc/datasets/__init__.py to __init__.cpython-311.pyc\n",
            "byte-compiling build/bdist.linux-x86_64/egg/animaloc/datasets/patched.py to patched.cpython-311.pyc\n",
            "byte-compiling build/bdist.linux-x86_64/egg/animaloc/datasets/folder.py to folder.cpython-311.pyc\n",
            "byte-compiling build/bdist.linux-x86_64/egg/animaloc/datasets/register.py to register.cpython-311.pyc\n",
            "byte-compiling build/bdist.linux-x86_64/egg/animaloc/data/annotations.py to annotations.cpython-311.pyc\n",
            "byte-compiling build/bdist.linux-x86_64/egg/animaloc/data/utils.py to utils.cpython-311.pyc\n",
            "byte-compiling build/bdist.linux-x86_64/egg/animaloc/data/__init__.py to __init__.cpython-311.pyc\n",
            "byte-compiling build/bdist.linux-x86_64/egg/animaloc/data/processors.py to processors.cpython-311.pyc\n",
            "byte-compiling build/bdist.linux-x86_64/egg/animaloc/data/patches.py to patches.cpython-311.pyc\n",
            "byte-compiling build/bdist.linux-x86_64/egg/animaloc/data/samplers.py to samplers.cpython-311.pyc\n",
            "byte-compiling build/bdist.linux-x86_64/egg/animaloc/data/transforms.py to transforms.cpython-311.pyc\n",
            "byte-compiling build/bdist.linux-x86_64/egg/animaloc/data/types.py to types.cpython-311.pyc\n",
            "byte-compiling build/bdist.linux-x86_64/egg/animaloc/data/batch_utils.py to batch_utils.cpython-311.pyc\n",
            "byte-compiling build/bdist.linux-x86_64/egg/animaloc/utils/timer.py to timer.cpython-311.pyc\n",
            "byte-compiling build/bdist.linux-x86_64/egg/animaloc/utils/seed.py to seed.cpython-311.pyc\n",
            "byte-compiling build/bdist.linux-x86_64/egg/animaloc/utils/registry.py to registry.cpython-311.pyc\n",
            "byte-compiling build/bdist.linux-x86_64/egg/animaloc/utils/__init__.py to __init__.cpython-311.pyc\n",
            "byte-compiling build/bdist.linux-x86_64/egg/animaloc/utils/logger.py to logger.cpython-311.pyc\n",
            "byte-compiling build/bdist.linux-x86_64/egg/animaloc/utils/useful_funcs.py to useful_funcs.cpython-311.pyc\n",
            "byte-compiling build/bdist.linux-x86_64/egg/animaloc/utils/torchvision_utils.py to torchvision_utils.cpython-311.pyc\n",
            "byte-compiling build/bdist.linux-x86_64/egg/animaloc/models/utils.py to utils.cpython-311.pyc\n",
            "byte-compiling build/bdist.linux-x86_64/egg/animaloc/models/__init__.py to __init__.cpython-311.pyc\n",
            "byte-compiling build/bdist.linux-x86_64/egg/animaloc/models/ss_dla.py to ss_dla.cpython-311.pyc\n",
            "byte-compiling build/bdist.linux-x86_64/egg/animaloc/models/faster_rcnn.py to faster_rcnn.cpython-311.pyc\n",
            "byte-compiling build/bdist.linux-x86_64/egg/animaloc/models/herdnet.py to herdnet.cpython-311.pyc\n",
            "byte-compiling build/bdist.linux-x86_64/egg/animaloc/models/dla.py to dla.cpython-311.pyc\n",
            "byte-compiling build/bdist.linux-x86_64/egg/animaloc/models/register.py to register.cpython-311.pyc\n",
            "byte-compiling build/bdist.linux-x86_64/egg/animaloc/__init__.py to __init__.cpython-311.pyc\n",
            "byte-compiling build/bdist.linux-x86_64/egg/animaloc/eval/lmds.py to lmds.cpython-311.pyc\n",
            "byte-compiling build/bdist.linux-x86_64/egg/animaloc/eval/utils.py to utils.cpython-311.pyc\n",
            "byte-compiling build/bdist.linux-x86_64/egg/animaloc/eval/evaluators.py to evaluators.cpython-311.pyc\n",
            "byte-compiling build/bdist.linux-x86_64/egg/animaloc/eval/stitchers.py to stitchers.cpython-311.pyc\n",
            "byte-compiling build/bdist.linux-x86_64/egg/animaloc/eval/__init__.py to __init__.cpython-311.pyc\n",
            "byte-compiling build/bdist.linux-x86_64/egg/animaloc/eval/metrics.py to metrics.cpython-311.pyc\n",
            "byte-compiling build/bdist.linux-x86_64/egg/animaloc/train/__init__.py to __init__.cpython-311.pyc\n",
            "byte-compiling build/bdist.linux-x86_64/egg/animaloc/train/trainers.py to trainers.cpython-311.pyc\n",
            "byte-compiling build/bdist.linux-x86_64/egg/animaloc/train/adaloss.py to adaloss.cpython-311.pyc\n",
            "byte-compiling build/bdist.linux-x86_64/egg/animaloc/train/losses/ssim.py to ssim.cpython-311.pyc\n",
            "byte-compiling build/bdist.linux-x86_64/egg/animaloc/train/losses/__init__.py to __init__.cpython-311.pyc\n",
            "byte-compiling build/bdist.linux-x86_64/egg/animaloc/train/losses/focal.py to focal.cpython-311.pyc\n",
            "byte-compiling build/bdist.linux-x86_64/egg/animaloc/train/losses/register.py to register.cpython-311.pyc\n",
            "byte-compiling build/bdist.linux-x86_64/egg/animaloc/vizual/plots.py to plots.cpython-311.pyc\n",
            "byte-compiling build/bdist.linux-x86_64/egg/animaloc/vizual/__init__.py to __init__.cpython-311.pyc\n",
            "byte-compiling build/bdist.linux-x86_64/egg/animaloc/vizual/objects.py to objects.cpython-311.pyc\n",
            "byte-compiling build/bdist.linux-x86_64/egg/animaloc/vizual/image.py to image.cpython-311.pyc\n",
            "creating build/bdist.linux-x86_64/egg/EGG-INFO\n",
            "copying animaloc.egg-info/PKG-INFO -> build/bdist.linux-x86_64/egg/EGG-INFO\n",
            "copying animaloc.egg-info/SOURCES.txt -> build/bdist.linux-x86_64/egg/EGG-INFO\n",
            "copying animaloc.egg-info/dependency_links.txt -> build/bdist.linux-x86_64/egg/EGG-INFO\n",
            "copying animaloc.egg-info/top_level.txt -> build/bdist.linux-x86_64/egg/EGG-INFO\n",
            "zip_safe flag not set; analyzing archive contents...\n",
            "creating 'dist/animaloc-0.2.1-py3.11.egg' and adding 'build/bdist.linux-x86_64/egg' to it\n",
            "removing 'build/bdist.linux-x86_64/egg' (and everything under it)\n",
            "Processing animaloc-0.2.1-py3.11.egg\n",
            "Removing /usr/local/lib/python3.11/dist-packages/animaloc-0.2.1-py3.11.egg\n",
            "Copying animaloc-0.2.1-py3.11.egg to /usr/local/lib/python3.11/dist-packages\n",
            "Adding animaloc 0.2.1 to easy-install.pth file\n",
            "\n",
            "Installed /usr/local/lib/python3.11/dist-packages/animaloc-0.2.1-py3.11.egg\n",
            "Processing dependencies for animaloc==0.2.1\n",
            "Finished processing dependencies for animaloc==0.2.1\n"
          ]
        }
      ],
      "source": [
        "# Download and install the code\n",
        "import sys\n",
        "\n",
        "!git clone https://github.com/Alexandre-Delplanque/HerdNet\n",
        "!cd '/content/HerdNet' && python setup.py install\n",
        "\n",
        "sys.path.append('/content/HerdNet')"
      ]
    },
    {
      "cell_type": "markdown",
      "metadata": {
        "id": "cuxaC9qGVk5S"
      },
      "source": [
        "## Create datasets"
      ]
    },
    {
      "cell_type": "code",
      "execution_count": 4,
      "metadata": {
        "id": "0yt06VTPVtsq",
        "colab": {
          "base_uri": "https://localhost:8080/"
        },
        "outputId": "42b181e5-695b-4019-add8-4e5beabd3b57"
      },
      "outputs": [
        {
          "output_type": "stream",
          "name": "stdout",
          "text": [
            "Downloading...\n",
            "From (original): https://drive.google.com/uc?id=1CcTAZZJdwrBfCPJtVH6VBU3luGKIN9st\n",
            "From (redirected): https://drive.google.com/uc?id=1CcTAZZJdwrBfCPJtVH6VBU3luGKIN9st&confirm=t&uuid=914be708-03ac-4c9e-a745-ae1ab72c776d\n",
            "To: /content/data.zip\n",
            "100% 11.6G/11.6G [01:46<00:00, 108MB/s] \n"
          ]
        }
      ],
      "source": [
        "# Download some of the data of Delplanque et al. (2021) as an example\n",
        "!gdown 1CcTAZZJdwrBfCPJtVH6VBU3luGKIN9st -O /content/data.zip\n",
        "!unzip -oq /content/data.zip -d /content"
      ]
    },
    {
      "cell_type": "code",
      "execution_count": 5,
      "metadata": {
        "id": "y1n_cQLFYBsJ"
      },
      "outputs": [],
      "source": [
        "# Set the seed\n",
        "from animaloc.utils.seed import set_seed\n",
        "\n",
        "set_seed(9292)"
      ]
    },
    {
      "cell_type": "code",
      "execution_count": 6,
      "metadata": {
        "id": "9tGqtLNG21Jf",
        "colab": {
          "base_uri": "https://localhost:8080/"
        },
        "outputId": "b45835db-26cf-4fd4-9f79-43469b89f392"
      },
      "outputs": [
        {
          "output_type": "stream",
          "name": "stdout",
          "text": [
            "Creating the buffer: 100% 111/111 [00:44<00:00,  2.49it/s]\n",
            "Exporting patches: 100% 111/111 [02:03<00:00,  1.11s/it]\n"
          ]
        }
      ],
      "source": [
        "# Create validation patches using the patcher tool (for demo)\n",
        "from animaloc.utils.useful_funcs import mkdir\n",
        "\n",
        "mkdir('/content/data/val_patches')\n",
        "!python /content/HerdNet/tools/patcher.py /content/data/val 512 512 0 /content/data/val_patches -csv /content/data/val.csv -min 0.0 -all False"
      ]
    },
    {
      "cell_type": "code",
      "execution_count": 7,
      "metadata": {
        "id": "Bwp4XPR8YNMR"
      },
      "outputs": [],
      "source": [
        "# Training, validation and test datasets\n",
        "import albumentations as A\n",
        "\n",
        "from animaloc.datasets import CSVDataset\n",
        "from animaloc.data.transforms import MultiTransformsWrapper, DownSample, PointsToMask, FIDT\n",
        "\n",
        "patch_size = 512\n",
        "num_classes = 7\n",
        "down_ratio = 2\n",
        "\n",
        "train_dataset = CSVDataset(\n",
        "    csv_file = '/content/data/train_patches.csv',\n",
        "    root_dir = '/content/data/train_patches',\n",
        "    albu_transforms = [\n",
        "        A.VerticalFlip(p=0.5),\n",
        "        A.HorizontalFlip(p=0.5),\n",
        "        A.RandomRotate90(p=0.5),\n",
        "        A.RandomBrightnessContrast(brightness_limit=0.2, contrast_limit=0.2, p=0.2),\n",
        "        A.Blur(blur_limit=15, p=0.2),\n",
        "        A.Normalize(p=1.0)\n",
        "        ],\n",
        "    end_transforms = [MultiTransformsWrapper([\n",
        "        FIDT(num_classes=num_classes, down_ratio=down_ratio),\n",
        "        PointsToMask(radius=2, num_classes=num_classes, squeeze=True, down_ratio=int(patch_size//16))\n",
        "        ])]\n",
        "    )\n",
        "\n",
        "val_dataset = CSVDataset(\n",
        "    #csv_file = '/content/data/val_patches/gt.csv',\n",
        "    csv_file = '/content/data/val.csv',\n",
        "    root_dir = '/content/data/val_patches',\n",
        "    albu_transforms = [A.Normalize(p=1.0)],\n",
        "    end_transforms = [DownSample(down_ratio=down_ratio, anno_type='point')]\n",
        "    )\n",
        "\n",
        "test_dataset = CSVDataset(\n",
        "    csv_file = '/content/data/test.csv',\n",
        "    root_dir = '/content/data/test',\n",
        "    albu_transforms = [A.Normalize(p=1.0)],\n",
        "    end_transforms = [DownSample(down_ratio=down_ratio, anno_type='point')]\n",
        "    )"
      ]
    },
    {
      "cell_type": "code",
      "execution_count": 8,
      "metadata": {
        "id": "lR1W5NVFYhiZ"
      },
      "outputs": [],
      "source": [
        "# Dataloaders\n",
        "from torch.utils.data import DataLoader\n",
        "\n",
        "train_dataloader = DataLoader(dataset = train_dataset, batch_size = 4, shuffle = True)\n",
        "\n",
        "val_dataloader = DataLoader(dataset = val_dataset, batch_size = 1, shuffle = False)\n",
        "\n",
        "test_dataloader = DataLoader(dataset = test_dataset, batch_size = 1, shuffle = False)"
      ]
    },
    {
      "cell_type": "markdown",
      "metadata": {
        "id": "emWQUMq2Vwpj"
      },
      "source": [
        "## Define HerdNet for training"
      ]
    },
    {
      "cell_type": "code",
      "execution_count": 14,
      "metadata": {
        "id": "JIBKygFlV0V1",
        "colab": {
          "base_uri": "https://localhost:8080/",
          "height": 501
        },
        "outputId": "d1a7e077-5171-45e5-877a-450b8ebec69f"
      },
      "outputs": [
        {
          "output_type": "stream",
          "name": "stderr",
          "text": [
            "Downloading: \"https://download.pytorch.org/models/resnet34-333f7ec4.pth\" to /root/.cache/torch/hub/checkpoints/resnet34-333f7ec4.pth\n",
            "100%|██████████| 83.3M/83.3M [00:00<00:00, 209MB/s]\n",
            "Downloading: \"http://dl.yf.io/dla/models/imagenet/dla34-ba72cf86.pth\" to /root/.cache/torch/hub/checkpoints/dla34-ba72cf86.pth\n"
          ]
        },
        {
          "output_type": "error",
          "ename": "URLError",
          "evalue": "<urlopen error [Errno 110] Connection timed out>",
          "traceback": [
            "\u001b[0;31m---------------------------------------------------------------------------\u001b[0m",
            "\u001b[0;31mTimeoutError\u001b[0m                              Traceback (most recent call last)",
            "\u001b[0;32m/usr/lib/python3.11/urllib/request.py\u001b[0m in \u001b[0;36mdo_open\u001b[0;34m(self, http_class, req, **http_conn_args)\u001b[0m\n\u001b[1;32m   1347\u001b[0m             \u001b[0;32mtry\u001b[0m\u001b[0;34m:\u001b[0m\u001b[0;34m\u001b[0m\u001b[0;34m\u001b[0m\u001b[0m\n\u001b[0;32m-> 1348\u001b[0;31m                 h.request(req.get_method(), req.selector, req.data, headers,\n\u001b[0m\u001b[1;32m   1349\u001b[0m                           encode_chunked=req.has_header('Transfer-encoding'))\n",
            "\u001b[0;32m/usr/lib/python3.11/http/client.py\u001b[0m in \u001b[0;36mrequest\u001b[0;34m(self, method, url, body, headers, encode_chunked)\u001b[0m\n\u001b[1;32m   1302\u001b[0m         \u001b[0;34m\"\"\"Send a complete request to the server.\"\"\"\u001b[0m\u001b[0;34m\u001b[0m\u001b[0;34m\u001b[0m\u001b[0m\n\u001b[0;32m-> 1303\u001b[0;31m         \u001b[0mself\u001b[0m\u001b[0;34m.\u001b[0m\u001b[0m_send_request\u001b[0m\u001b[0;34m(\u001b[0m\u001b[0mmethod\u001b[0m\u001b[0;34m,\u001b[0m \u001b[0murl\u001b[0m\u001b[0;34m,\u001b[0m \u001b[0mbody\u001b[0m\u001b[0;34m,\u001b[0m \u001b[0mheaders\u001b[0m\u001b[0;34m,\u001b[0m \u001b[0mencode_chunked\u001b[0m\u001b[0;34m)\u001b[0m\u001b[0;34m\u001b[0m\u001b[0;34m\u001b[0m\u001b[0m\n\u001b[0m\u001b[1;32m   1304\u001b[0m \u001b[0;34m\u001b[0m\u001b[0m\n",
            "\u001b[0;32m/usr/lib/python3.11/http/client.py\u001b[0m in \u001b[0;36m_send_request\u001b[0;34m(self, method, url, body, headers, encode_chunked)\u001b[0m\n\u001b[1;32m   1348\u001b[0m             \u001b[0mbody\u001b[0m \u001b[0;34m=\u001b[0m \u001b[0m_encode\u001b[0m\u001b[0;34m(\u001b[0m\u001b[0mbody\u001b[0m\u001b[0;34m,\u001b[0m \u001b[0;34m'body'\u001b[0m\u001b[0;34m)\u001b[0m\u001b[0;34m\u001b[0m\u001b[0;34m\u001b[0m\u001b[0m\n\u001b[0;32m-> 1349\u001b[0;31m         \u001b[0mself\u001b[0m\u001b[0;34m.\u001b[0m\u001b[0mendheaders\u001b[0m\u001b[0;34m(\u001b[0m\u001b[0mbody\u001b[0m\u001b[0;34m,\u001b[0m \u001b[0mencode_chunked\u001b[0m\u001b[0;34m=\u001b[0m\u001b[0mencode_chunked\u001b[0m\u001b[0;34m)\u001b[0m\u001b[0;34m\u001b[0m\u001b[0;34m\u001b[0m\u001b[0m\n\u001b[0m\u001b[1;32m   1350\u001b[0m \u001b[0;34m\u001b[0m\u001b[0m\n",
            "\u001b[0;32m/usr/lib/python3.11/http/client.py\u001b[0m in \u001b[0;36mendheaders\u001b[0;34m(self, message_body, encode_chunked)\u001b[0m\n\u001b[1;32m   1297\u001b[0m             \u001b[0;32mraise\u001b[0m \u001b[0mCannotSendHeader\u001b[0m\u001b[0;34m(\u001b[0m\u001b[0;34m)\u001b[0m\u001b[0;34m\u001b[0m\u001b[0;34m\u001b[0m\u001b[0m\n\u001b[0;32m-> 1298\u001b[0;31m         \u001b[0mself\u001b[0m\u001b[0;34m.\u001b[0m\u001b[0m_send_output\u001b[0m\u001b[0;34m(\u001b[0m\u001b[0mmessage_body\u001b[0m\u001b[0;34m,\u001b[0m \u001b[0mencode_chunked\u001b[0m\u001b[0;34m=\u001b[0m\u001b[0mencode_chunked\u001b[0m\u001b[0;34m)\u001b[0m\u001b[0;34m\u001b[0m\u001b[0;34m\u001b[0m\u001b[0m\n\u001b[0m\u001b[1;32m   1299\u001b[0m \u001b[0;34m\u001b[0m\u001b[0m\n",
            "\u001b[0;32m/usr/lib/python3.11/http/client.py\u001b[0m in \u001b[0;36m_send_output\u001b[0;34m(self, message_body, encode_chunked)\u001b[0m\n\u001b[1;32m   1057\u001b[0m         \u001b[0;32mdel\u001b[0m \u001b[0mself\u001b[0m\u001b[0;34m.\u001b[0m\u001b[0m_buffer\u001b[0m\u001b[0;34m[\u001b[0m\u001b[0;34m:\u001b[0m\u001b[0;34m]\u001b[0m\u001b[0;34m\u001b[0m\u001b[0;34m\u001b[0m\u001b[0m\n\u001b[0;32m-> 1058\u001b[0;31m         \u001b[0mself\u001b[0m\u001b[0;34m.\u001b[0m\u001b[0msend\u001b[0m\u001b[0;34m(\u001b[0m\u001b[0mmsg\u001b[0m\u001b[0;34m)\u001b[0m\u001b[0;34m\u001b[0m\u001b[0;34m\u001b[0m\u001b[0m\n\u001b[0m\u001b[1;32m   1059\u001b[0m \u001b[0;34m\u001b[0m\u001b[0m\n",
            "\u001b[0;32m/usr/lib/python3.11/http/client.py\u001b[0m in \u001b[0;36msend\u001b[0;34m(self, data)\u001b[0m\n\u001b[1;32m    995\u001b[0m             \u001b[0;32mif\u001b[0m \u001b[0mself\u001b[0m\u001b[0;34m.\u001b[0m\u001b[0mauto_open\u001b[0m\u001b[0;34m:\u001b[0m\u001b[0;34m\u001b[0m\u001b[0;34m\u001b[0m\u001b[0m\n\u001b[0;32m--> 996\u001b[0;31m                 \u001b[0mself\u001b[0m\u001b[0;34m.\u001b[0m\u001b[0mconnect\u001b[0m\u001b[0;34m(\u001b[0m\u001b[0;34m)\u001b[0m\u001b[0;34m\u001b[0m\u001b[0;34m\u001b[0m\u001b[0m\n\u001b[0m\u001b[1;32m    997\u001b[0m             \u001b[0;32melse\u001b[0m\u001b[0;34m:\u001b[0m\u001b[0;34m\u001b[0m\u001b[0;34m\u001b[0m\u001b[0m\n",
            "\u001b[0;32m/usr/lib/python3.11/http/client.py\u001b[0m in \u001b[0;36mconnect\u001b[0;34m(self)\u001b[0m\n\u001b[1;32m    961\u001b[0m         \u001b[0msys\u001b[0m\u001b[0;34m.\u001b[0m\u001b[0maudit\u001b[0m\u001b[0;34m(\u001b[0m\u001b[0;34m\"http.client.connect\"\u001b[0m\u001b[0;34m,\u001b[0m \u001b[0mself\u001b[0m\u001b[0;34m,\u001b[0m \u001b[0mself\u001b[0m\u001b[0;34m.\u001b[0m\u001b[0mhost\u001b[0m\u001b[0;34m,\u001b[0m \u001b[0mself\u001b[0m\u001b[0;34m.\u001b[0m\u001b[0mport\u001b[0m\u001b[0;34m)\u001b[0m\u001b[0;34m\u001b[0m\u001b[0;34m\u001b[0m\u001b[0m\n\u001b[0;32m--> 962\u001b[0;31m         self.sock = self._create_connection(\n\u001b[0m\u001b[1;32m    963\u001b[0m             (self.host,self.port), self.timeout, self.source_address)\n",
            "\u001b[0;32m/usr/lib/python3.11/socket.py\u001b[0m in \u001b[0;36mcreate_connection\u001b[0;34m(address, timeout, source_address, all_errors)\u001b[0m\n\u001b[1;32m    862\u001b[0m             \u001b[0;32mif\u001b[0m \u001b[0;32mnot\u001b[0m \u001b[0mall_errors\u001b[0m\u001b[0;34m:\u001b[0m\u001b[0;34m\u001b[0m\u001b[0;34m\u001b[0m\u001b[0m\n\u001b[0;32m--> 863\u001b[0;31m                 \u001b[0;32mraise\u001b[0m \u001b[0mexceptions\u001b[0m\u001b[0;34m[\u001b[0m\u001b[0;36m0\u001b[0m\u001b[0;34m]\u001b[0m\u001b[0;34m\u001b[0m\u001b[0;34m\u001b[0m\u001b[0m\n\u001b[0m\u001b[1;32m    864\u001b[0m             \u001b[0;32mraise\u001b[0m \u001b[0mExceptionGroup\u001b[0m\u001b[0;34m(\u001b[0m\u001b[0;34m\"create_connection failed\"\u001b[0m\u001b[0;34m,\u001b[0m \u001b[0mexceptions\u001b[0m\u001b[0;34m)\u001b[0m\u001b[0;34m\u001b[0m\u001b[0;34m\u001b[0m\u001b[0m\n",
            "\u001b[0;32m/usr/lib/python3.11/socket.py\u001b[0m in \u001b[0;36mcreate_connection\u001b[0;34m(address, timeout, source_address, all_errors)\u001b[0m\n\u001b[1;32m    847\u001b[0m                 \u001b[0msock\u001b[0m\u001b[0;34m.\u001b[0m\u001b[0mbind\u001b[0m\u001b[0;34m(\u001b[0m\u001b[0msource_address\u001b[0m\u001b[0;34m)\u001b[0m\u001b[0;34m\u001b[0m\u001b[0;34m\u001b[0m\u001b[0m\n\u001b[0;32m--> 848\u001b[0;31m             \u001b[0msock\u001b[0m\u001b[0;34m.\u001b[0m\u001b[0mconnect\u001b[0m\u001b[0;34m(\u001b[0m\u001b[0msa\u001b[0m\u001b[0;34m)\u001b[0m\u001b[0;34m\u001b[0m\u001b[0;34m\u001b[0m\u001b[0m\n\u001b[0m\u001b[1;32m    849\u001b[0m             \u001b[0;31m# Break explicitly a reference cycle\u001b[0m\u001b[0;34m\u001b[0m\u001b[0;34m\u001b[0m\u001b[0m\n",
            "\u001b[0;31mTimeoutError\u001b[0m: [Errno 110] Connection timed out",
            "\nDuring handling of the above exception, another exception occurred:\n",
            "\u001b[0;31mURLError\u001b[0m                                  Traceback (most recent call last)",
            "\u001b[0;32m<ipython-input-14-70af6319c72f>\u001b[0m in \u001b[0;36m<cell line: 0>\u001b[0;34m()\u001b[0m\n\u001b[1;32m     11\u001b[0m \u001b[0mstate_dict\u001b[0m \u001b[0;34m=\u001b[0m \u001b[0mload_state_dict_from_url\u001b[0m\u001b[0;34m(\u001b[0m\u001b[0murl\u001b[0m\u001b[0;34m,\u001b[0m \u001b[0mprogress\u001b[0m\u001b[0;34m=\u001b[0m\u001b[0;32mTrue\u001b[0m\u001b[0;34m)\u001b[0m\u001b[0;34m\u001b[0m\u001b[0;34m\u001b[0m\u001b[0m\n\u001b[1;32m     12\u001b[0m \u001b[0;34m\u001b[0m\u001b[0m\n\u001b[0;32m---> 13\u001b[0;31m \u001b[0mherdnet\u001b[0m \u001b[0;34m=\u001b[0m \u001b[0mHerdNet\u001b[0m\u001b[0;34m(\u001b[0m\u001b[0mnum_classes\u001b[0m\u001b[0;34m=\u001b[0m\u001b[0mnum_classes\u001b[0m\u001b[0;34m,\u001b[0m \u001b[0mdown_ratio\u001b[0m\u001b[0;34m=\u001b[0m\u001b[0mdown_ratio\u001b[0m\u001b[0;34m)\u001b[0m\u001b[0;31m#.cuda()\u001b[0m\u001b[0;34m\u001b[0m\u001b[0;34m\u001b[0m\u001b[0m\n\u001b[0m\u001b[1;32m     14\u001b[0m \u001b[0mherdnet\u001b[0m\u001b[0;34m.\u001b[0m\u001b[0mload_state_dict\u001b[0m\u001b[0;34m(\u001b[0m\u001b[0mstate_dict\u001b[0m\u001b[0;34m,\u001b[0m \u001b[0mstrict\u001b[0m\u001b[0;34m=\u001b[0m\u001b[0;32mFalse\u001b[0m\u001b[0;34m)\u001b[0m\u001b[0;34m\u001b[0m\u001b[0;34m\u001b[0m\u001b[0m\n\u001b[1;32m     15\u001b[0m \u001b[0mherdnet\u001b[0m \u001b[0;34m=\u001b[0m \u001b[0mherdnet\u001b[0m\u001b[0;34m.\u001b[0m\u001b[0mcuda\u001b[0m\u001b[0;34m(\u001b[0m\u001b[0;34m)\u001b[0m\u001b[0;34m\u001b[0m\u001b[0;34m\u001b[0m\u001b[0m\n",
            "\u001b[0;32m/usr/local/lib/python3.11/dist-packages/animaloc-0.2.1-py3.11.egg/animaloc/models/herdnet.py\u001b[0m in \u001b[0;36m__init__\u001b[0;34m(self, num_layers, num_classes, pretrained, down_ratio, head_conv)\u001b[0m\n\u001b[1;32m     68\u001b[0m \u001b[0;34m\u001b[0m\u001b[0m\n\u001b[1;32m     69\u001b[0m         \u001b[0;31m# backbone\u001b[0m\u001b[0;34m\u001b[0m\u001b[0;34m\u001b[0m\u001b[0m\n\u001b[0;32m---> 70\u001b[0;31m         \u001b[0mbase\u001b[0m \u001b[0;34m=\u001b[0m \u001b[0mdla_modules\u001b[0m\u001b[0;34m.\u001b[0m\u001b[0m__dict__\u001b[0m\u001b[0;34m[\u001b[0m\u001b[0mbase_name\u001b[0m\u001b[0;34m]\u001b[0m\u001b[0;34m(\u001b[0m\u001b[0mpretrained\u001b[0m\u001b[0;34m=\u001b[0m\u001b[0mpretrained\u001b[0m\u001b[0;34m,\u001b[0m \u001b[0mreturn_levels\u001b[0m\u001b[0;34m=\u001b[0m\u001b[0;32mTrue\u001b[0m\u001b[0;34m)\u001b[0m\u001b[0;34m\u001b[0m\u001b[0;34m\u001b[0m\u001b[0m\n\u001b[0m\u001b[1;32m     71\u001b[0m         \u001b[0msetattr\u001b[0m\u001b[0;34m(\u001b[0m\u001b[0mself\u001b[0m\u001b[0;34m,\u001b[0m \u001b[0;34m'base_0'\u001b[0m\u001b[0;34m,\u001b[0m \u001b[0mbase\u001b[0m\u001b[0;34m)\u001b[0m\u001b[0;34m\u001b[0m\u001b[0;34m\u001b[0m\u001b[0m\n\u001b[1;32m     72\u001b[0m         \u001b[0msetattr\u001b[0m\u001b[0;34m(\u001b[0m\u001b[0mself\u001b[0m\u001b[0;34m,\u001b[0m \u001b[0;34m'channels_0'\u001b[0m\u001b[0;34m,\u001b[0m \u001b[0mbase\u001b[0m\u001b[0;34m.\u001b[0m\u001b[0mchannels\u001b[0m\u001b[0;34m)\u001b[0m\u001b[0;34m\u001b[0m\u001b[0;34m\u001b[0m\u001b[0m\n",
            "\u001b[0;32m/usr/local/lib/python3.11/dist-packages/animaloc-0.2.1-py3.11.egg/animaloc/models/dla.py\u001b[0m in \u001b[0;36mdla34\u001b[0;34m(pretrained, **kwargs)\u001b[0m\n\u001b[1;32m    338\u001b[0m                 block=BasicBlock, **kwargs)\n\u001b[1;32m    339\u001b[0m     \u001b[0;32mif\u001b[0m \u001b[0mpretrained\u001b[0m\u001b[0;34m:\u001b[0m\u001b[0;34m\u001b[0m\u001b[0;34m\u001b[0m\u001b[0m\n\u001b[0;32m--> 340\u001b[0;31m         \u001b[0mmodel\u001b[0m\u001b[0;34m.\u001b[0m\u001b[0mload_pretrained_model\u001b[0m\u001b[0;34m(\u001b[0m\u001b[0mdata\u001b[0m\u001b[0;34m=\u001b[0m\u001b[0;34m'imagenet'\u001b[0m\u001b[0;34m,\u001b[0m \u001b[0mname\u001b[0m\u001b[0;34m=\u001b[0m\u001b[0;34m'dla34'\u001b[0m\u001b[0;34m,\u001b[0m \u001b[0mhash\u001b[0m\u001b[0;34m=\u001b[0m\u001b[0;34m'ba72cf86'\u001b[0m\u001b[0;34m)\u001b[0m\u001b[0;34m\u001b[0m\u001b[0;34m\u001b[0m\u001b[0m\n\u001b[0m\u001b[1;32m    341\u001b[0m     \u001b[0;32mreturn\u001b[0m \u001b[0mmodel\u001b[0m\u001b[0;34m\u001b[0m\u001b[0;34m\u001b[0m\u001b[0m\n\u001b[1;32m    342\u001b[0m \u001b[0;34m\u001b[0m\u001b[0m\n",
            "\u001b[0;32m/usr/local/lib/python3.11/dist-packages/animaloc-0.2.1-py3.11.egg/animaloc/models/dla.py\u001b[0m in \u001b[0;36mload_pretrained_model\u001b[0;34m(self, data, name, hash)\u001b[0m\n\u001b[1;32m    324\u001b[0m         \u001b[0;32melse\u001b[0m\u001b[0;34m:\u001b[0m\u001b[0;34m\u001b[0m\u001b[0;34m\u001b[0m\u001b[0m\n\u001b[1;32m    325\u001b[0m             \u001b[0mmodel_url\u001b[0m \u001b[0;34m=\u001b[0m \u001b[0mget_model_url\u001b[0m\u001b[0;34m(\u001b[0m\u001b[0mdata\u001b[0m\u001b[0;34m,\u001b[0m \u001b[0mname\u001b[0m\u001b[0;34m,\u001b[0m \u001b[0mhash\u001b[0m\u001b[0;34m)\u001b[0m\u001b[0;34m\u001b[0m\u001b[0;34m\u001b[0m\u001b[0m\n\u001b[0;32m--> 326\u001b[0;31m             \u001b[0mmodel_weights\u001b[0m \u001b[0;34m=\u001b[0m \u001b[0mmodel_zoo\u001b[0m\u001b[0;34m.\u001b[0m\u001b[0mload_url\u001b[0m\u001b[0;34m(\u001b[0m\u001b[0mmodel_url\u001b[0m\u001b[0;34m)\u001b[0m\u001b[0;34m\u001b[0m\u001b[0;34m\u001b[0m\u001b[0m\n\u001b[0m\u001b[1;32m    327\u001b[0m         \u001b[0mnum_classes\u001b[0m \u001b[0;34m=\u001b[0m \u001b[0mlen\u001b[0m\u001b[0;34m(\u001b[0m\u001b[0mmodel_weights\u001b[0m\u001b[0;34m[\u001b[0m\u001b[0mlist\u001b[0m\u001b[0;34m(\u001b[0m\u001b[0mmodel_weights\u001b[0m\u001b[0;34m.\u001b[0m\u001b[0mkeys\u001b[0m\u001b[0;34m(\u001b[0m\u001b[0;34m)\u001b[0m\u001b[0;34m)\u001b[0m\u001b[0;34m[\u001b[0m\u001b[0;34m-\u001b[0m\u001b[0;36m1\u001b[0m\u001b[0;34m]\u001b[0m\u001b[0;34m]\u001b[0m\u001b[0;34m)\u001b[0m\u001b[0;34m\u001b[0m\u001b[0;34m\u001b[0m\u001b[0m\n\u001b[1;32m    328\u001b[0m         self.fc = nn.Conv2d(\n",
            "\u001b[0;32m/usr/local/lib/python3.11/dist-packages/torch/hub.py\u001b[0m in \u001b[0;36mload_state_dict_from_url\u001b[0;34m(url, model_dir, map_location, progress, check_hash, file_name, weights_only)\u001b[0m\n\u001b[1;32m    865\u001b[0m             \u001b[0mr\u001b[0m \u001b[0;34m=\u001b[0m \u001b[0mHASH_REGEX\u001b[0m\u001b[0;34m.\u001b[0m\u001b[0msearch\u001b[0m\u001b[0;34m(\u001b[0m\u001b[0mfilename\u001b[0m\u001b[0;34m)\u001b[0m  \u001b[0;31m# r is Optional[Match[str]]\u001b[0m\u001b[0;34m\u001b[0m\u001b[0;34m\u001b[0m\u001b[0m\n\u001b[1;32m    866\u001b[0m             \u001b[0mhash_prefix\u001b[0m \u001b[0;34m=\u001b[0m \u001b[0mr\u001b[0m\u001b[0;34m.\u001b[0m\u001b[0mgroup\u001b[0m\u001b[0;34m(\u001b[0m\u001b[0;36m1\u001b[0m\u001b[0;34m)\u001b[0m \u001b[0;32mif\u001b[0m \u001b[0mr\u001b[0m \u001b[0;32melse\u001b[0m \u001b[0;32mNone\u001b[0m\u001b[0;34m\u001b[0m\u001b[0;34m\u001b[0m\u001b[0m\n\u001b[0;32m--> 867\u001b[0;31m         \u001b[0mdownload_url_to_file\u001b[0m\u001b[0;34m(\u001b[0m\u001b[0murl\u001b[0m\u001b[0;34m,\u001b[0m \u001b[0mcached_file\u001b[0m\u001b[0;34m,\u001b[0m \u001b[0mhash_prefix\u001b[0m\u001b[0;34m,\u001b[0m \u001b[0mprogress\u001b[0m\u001b[0;34m=\u001b[0m\u001b[0mprogress\u001b[0m\u001b[0;34m)\u001b[0m\u001b[0;34m\u001b[0m\u001b[0;34m\u001b[0m\u001b[0m\n\u001b[0m\u001b[1;32m    868\u001b[0m \u001b[0;34m\u001b[0m\u001b[0m\n\u001b[1;32m    869\u001b[0m     \u001b[0;32mif\u001b[0m \u001b[0m_is_legacy_zip_format\u001b[0m\u001b[0;34m(\u001b[0m\u001b[0mcached_file\u001b[0m\u001b[0;34m)\u001b[0m\u001b[0;34m:\u001b[0m\u001b[0;34m\u001b[0m\u001b[0;34m\u001b[0m\u001b[0m\n",
            "\u001b[0;32m/usr/local/lib/python3.11/dist-packages/torch/hub.py\u001b[0m in \u001b[0;36mdownload_url_to_file\u001b[0;34m(url, dst, hash_prefix, progress)\u001b[0m\n\u001b[1;32m    706\u001b[0m     \u001b[0mfile_size\u001b[0m \u001b[0;34m=\u001b[0m \u001b[0;32mNone\u001b[0m\u001b[0;34m\u001b[0m\u001b[0;34m\u001b[0m\u001b[0m\n\u001b[1;32m    707\u001b[0m     \u001b[0mreq\u001b[0m \u001b[0;34m=\u001b[0m \u001b[0mRequest\u001b[0m\u001b[0;34m(\u001b[0m\u001b[0murl\u001b[0m\u001b[0;34m,\u001b[0m \u001b[0mheaders\u001b[0m\u001b[0;34m=\u001b[0m\u001b[0;34m{\u001b[0m\u001b[0;34m\"User-Agent\"\u001b[0m\u001b[0;34m:\u001b[0m \u001b[0;34m\"torch.hub\"\u001b[0m\u001b[0;34m}\u001b[0m\u001b[0;34m)\u001b[0m\u001b[0;34m\u001b[0m\u001b[0;34m\u001b[0m\u001b[0m\n\u001b[0;32m--> 708\u001b[0;31m     \u001b[0mu\u001b[0m \u001b[0;34m=\u001b[0m \u001b[0murlopen\u001b[0m\u001b[0;34m(\u001b[0m\u001b[0mreq\u001b[0m\u001b[0;34m)\u001b[0m\u001b[0;34m\u001b[0m\u001b[0;34m\u001b[0m\u001b[0m\n\u001b[0m\u001b[1;32m    709\u001b[0m     \u001b[0mmeta\u001b[0m \u001b[0;34m=\u001b[0m \u001b[0mu\u001b[0m\u001b[0;34m.\u001b[0m\u001b[0minfo\u001b[0m\u001b[0;34m(\u001b[0m\u001b[0;34m)\u001b[0m\u001b[0;34m\u001b[0m\u001b[0;34m\u001b[0m\u001b[0m\n\u001b[1;32m    710\u001b[0m     \u001b[0;32mif\u001b[0m \u001b[0mhasattr\u001b[0m\u001b[0;34m(\u001b[0m\u001b[0mmeta\u001b[0m\u001b[0;34m,\u001b[0m \u001b[0;34m\"getheaders\"\u001b[0m\u001b[0;34m)\u001b[0m\u001b[0;34m:\u001b[0m\u001b[0;34m\u001b[0m\u001b[0;34m\u001b[0m\u001b[0m\n",
            "\u001b[0;32m/usr/lib/python3.11/urllib/request.py\u001b[0m in \u001b[0;36murlopen\u001b[0;34m(url, data, timeout, cafile, capath, cadefault, context)\u001b[0m\n\u001b[1;32m    214\u001b[0m     \u001b[0;32melse\u001b[0m\u001b[0;34m:\u001b[0m\u001b[0;34m\u001b[0m\u001b[0;34m\u001b[0m\u001b[0m\n\u001b[1;32m    215\u001b[0m         \u001b[0mopener\u001b[0m \u001b[0;34m=\u001b[0m \u001b[0m_opener\u001b[0m\u001b[0;34m\u001b[0m\u001b[0;34m\u001b[0m\u001b[0m\n\u001b[0;32m--> 216\u001b[0;31m     \u001b[0;32mreturn\u001b[0m \u001b[0mopener\u001b[0m\u001b[0;34m.\u001b[0m\u001b[0mopen\u001b[0m\u001b[0;34m(\u001b[0m\u001b[0murl\u001b[0m\u001b[0;34m,\u001b[0m \u001b[0mdata\u001b[0m\u001b[0;34m,\u001b[0m \u001b[0mtimeout\u001b[0m\u001b[0;34m)\u001b[0m\u001b[0;34m\u001b[0m\u001b[0;34m\u001b[0m\u001b[0m\n\u001b[0m\u001b[1;32m    217\u001b[0m \u001b[0;34m\u001b[0m\u001b[0m\n\u001b[1;32m    218\u001b[0m \u001b[0;32mdef\u001b[0m \u001b[0minstall_opener\u001b[0m\u001b[0;34m(\u001b[0m\u001b[0mopener\u001b[0m\u001b[0;34m)\u001b[0m\u001b[0;34m:\u001b[0m\u001b[0;34m\u001b[0m\u001b[0;34m\u001b[0m\u001b[0m\n",
            "\u001b[0;32m/usr/lib/python3.11/urllib/request.py\u001b[0m in \u001b[0;36mopen\u001b[0;34m(self, fullurl, data, timeout)\u001b[0m\n\u001b[1;32m    517\u001b[0m \u001b[0;34m\u001b[0m\u001b[0m\n\u001b[1;32m    518\u001b[0m         \u001b[0msys\u001b[0m\u001b[0;34m.\u001b[0m\u001b[0maudit\u001b[0m\u001b[0;34m(\u001b[0m\u001b[0;34m'urllib.Request'\u001b[0m\u001b[0;34m,\u001b[0m \u001b[0mreq\u001b[0m\u001b[0;34m.\u001b[0m\u001b[0mfull_url\u001b[0m\u001b[0;34m,\u001b[0m \u001b[0mreq\u001b[0m\u001b[0;34m.\u001b[0m\u001b[0mdata\u001b[0m\u001b[0;34m,\u001b[0m \u001b[0mreq\u001b[0m\u001b[0;34m.\u001b[0m\u001b[0mheaders\u001b[0m\u001b[0;34m,\u001b[0m \u001b[0mreq\u001b[0m\u001b[0;34m.\u001b[0m\u001b[0mget_method\u001b[0m\u001b[0;34m(\u001b[0m\u001b[0;34m)\u001b[0m\u001b[0;34m)\u001b[0m\u001b[0;34m\u001b[0m\u001b[0;34m\u001b[0m\u001b[0m\n\u001b[0;32m--> 519\u001b[0;31m         \u001b[0mresponse\u001b[0m \u001b[0;34m=\u001b[0m \u001b[0mself\u001b[0m\u001b[0;34m.\u001b[0m\u001b[0m_open\u001b[0m\u001b[0;34m(\u001b[0m\u001b[0mreq\u001b[0m\u001b[0;34m,\u001b[0m \u001b[0mdata\u001b[0m\u001b[0;34m)\u001b[0m\u001b[0;34m\u001b[0m\u001b[0;34m\u001b[0m\u001b[0m\n\u001b[0m\u001b[1;32m    520\u001b[0m \u001b[0;34m\u001b[0m\u001b[0m\n\u001b[1;32m    521\u001b[0m         \u001b[0;31m# post-process response\u001b[0m\u001b[0;34m\u001b[0m\u001b[0;34m\u001b[0m\u001b[0m\n",
            "\u001b[0;32m/usr/lib/python3.11/urllib/request.py\u001b[0m in \u001b[0;36m_open\u001b[0;34m(self, req, data)\u001b[0m\n\u001b[1;32m    534\u001b[0m \u001b[0;34m\u001b[0m\u001b[0m\n\u001b[1;32m    535\u001b[0m         \u001b[0mprotocol\u001b[0m \u001b[0;34m=\u001b[0m \u001b[0mreq\u001b[0m\u001b[0;34m.\u001b[0m\u001b[0mtype\u001b[0m\u001b[0;34m\u001b[0m\u001b[0;34m\u001b[0m\u001b[0m\n\u001b[0;32m--> 536\u001b[0;31m         result = self._call_chain(self.handle_open, protocol, protocol +\n\u001b[0m\u001b[1;32m    537\u001b[0m                                   '_open', req)\n\u001b[1;32m    538\u001b[0m         \u001b[0;32mif\u001b[0m \u001b[0mresult\u001b[0m\u001b[0;34m:\u001b[0m\u001b[0;34m\u001b[0m\u001b[0;34m\u001b[0m\u001b[0m\n",
            "\u001b[0;32m/usr/lib/python3.11/urllib/request.py\u001b[0m in \u001b[0;36m_call_chain\u001b[0;34m(self, chain, kind, meth_name, *args)\u001b[0m\n\u001b[1;32m    494\u001b[0m         \u001b[0;32mfor\u001b[0m \u001b[0mhandler\u001b[0m \u001b[0;32min\u001b[0m \u001b[0mhandlers\u001b[0m\u001b[0;34m:\u001b[0m\u001b[0;34m\u001b[0m\u001b[0;34m\u001b[0m\u001b[0m\n\u001b[1;32m    495\u001b[0m             \u001b[0mfunc\u001b[0m \u001b[0;34m=\u001b[0m \u001b[0mgetattr\u001b[0m\u001b[0;34m(\u001b[0m\u001b[0mhandler\u001b[0m\u001b[0;34m,\u001b[0m \u001b[0mmeth_name\u001b[0m\u001b[0;34m)\u001b[0m\u001b[0;34m\u001b[0m\u001b[0;34m\u001b[0m\u001b[0m\n\u001b[0;32m--> 496\u001b[0;31m             \u001b[0mresult\u001b[0m \u001b[0;34m=\u001b[0m \u001b[0mfunc\u001b[0m\u001b[0;34m(\u001b[0m\u001b[0;34m*\u001b[0m\u001b[0margs\u001b[0m\u001b[0;34m)\u001b[0m\u001b[0;34m\u001b[0m\u001b[0;34m\u001b[0m\u001b[0m\n\u001b[0m\u001b[1;32m    497\u001b[0m             \u001b[0;32mif\u001b[0m \u001b[0mresult\u001b[0m \u001b[0;32mis\u001b[0m \u001b[0;32mnot\u001b[0m \u001b[0;32mNone\u001b[0m\u001b[0;34m:\u001b[0m\u001b[0;34m\u001b[0m\u001b[0;34m\u001b[0m\u001b[0m\n\u001b[1;32m    498\u001b[0m                 \u001b[0;32mreturn\u001b[0m \u001b[0mresult\u001b[0m\u001b[0;34m\u001b[0m\u001b[0;34m\u001b[0m\u001b[0m\n",
            "\u001b[0;32m/usr/lib/python3.11/urllib/request.py\u001b[0m in \u001b[0;36mhttp_open\u001b[0;34m(self, req)\u001b[0m\n\u001b[1;32m   1375\u001b[0m \u001b[0;34m\u001b[0m\u001b[0m\n\u001b[1;32m   1376\u001b[0m     \u001b[0;32mdef\u001b[0m \u001b[0mhttp_open\u001b[0m\u001b[0;34m(\u001b[0m\u001b[0mself\u001b[0m\u001b[0;34m,\u001b[0m \u001b[0mreq\u001b[0m\u001b[0;34m)\u001b[0m\u001b[0;34m:\u001b[0m\u001b[0;34m\u001b[0m\u001b[0;34m\u001b[0m\u001b[0m\n\u001b[0;32m-> 1377\u001b[0;31m         \u001b[0;32mreturn\u001b[0m \u001b[0mself\u001b[0m\u001b[0;34m.\u001b[0m\u001b[0mdo_open\u001b[0m\u001b[0;34m(\u001b[0m\u001b[0mhttp\u001b[0m\u001b[0;34m.\u001b[0m\u001b[0mclient\u001b[0m\u001b[0;34m.\u001b[0m\u001b[0mHTTPConnection\u001b[0m\u001b[0;34m,\u001b[0m \u001b[0mreq\u001b[0m\u001b[0;34m)\u001b[0m\u001b[0;34m\u001b[0m\u001b[0;34m\u001b[0m\u001b[0m\n\u001b[0m\u001b[1;32m   1378\u001b[0m \u001b[0;34m\u001b[0m\u001b[0m\n\u001b[1;32m   1379\u001b[0m     \u001b[0mhttp_request\u001b[0m \u001b[0;34m=\u001b[0m \u001b[0mAbstractHTTPHandler\u001b[0m\u001b[0;34m.\u001b[0m\u001b[0mdo_request_\u001b[0m\u001b[0;34m\u001b[0m\u001b[0;34m\u001b[0m\u001b[0m\n",
            "\u001b[0;32m/usr/lib/python3.11/urllib/request.py\u001b[0m in \u001b[0;36mdo_open\u001b[0;34m(self, http_class, req, **http_conn_args)\u001b[0m\n\u001b[1;32m   1349\u001b[0m                           encode_chunked=req.has_header('Transfer-encoding'))\n\u001b[1;32m   1350\u001b[0m             \u001b[0;32mexcept\u001b[0m \u001b[0mOSError\u001b[0m \u001b[0;32mas\u001b[0m \u001b[0merr\u001b[0m\u001b[0;34m:\u001b[0m \u001b[0;31m# timeout error\u001b[0m\u001b[0;34m\u001b[0m\u001b[0;34m\u001b[0m\u001b[0m\n\u001b[0;32m-> 1351\u001b[0;31m                 \u001b[0;32mraise\u001b[0m \u001b[0mURLError\u001b[0m\u001b[0;34m(\u001b[0m\u001b[0merr\u001b[0m\u001b[0;34m)\u001b[0m\u001b[0;34m\u001b[0m\u001b[0;34m\u001b[0m\u001b[0m\n\u001b[0m\u001b[1;32m   1352\u001b[0m             \u001b[0mr\u001b[0m \u001b[0;34m=\u001b[0m \u001b[0mh\u001b[0m\u001b[0;34m.\u001b[0m\u001b[0mgetresponse\u001b[0m\u001b[0;34m(\u001b[0m\u001b[0;34m)\u001b[0m\u001b[0;34m\u001b[0m\u001b[0;34m\u001b[0m\u001b[0m\n\u001b[1;32m   1353\u001b[0m         \u001b[0;32mexcept\u001b[0m\u001b[0;34m:\u001b[0m\u001b[0;34m\u001b[0m\u001b[0;34m\u001b[0m\u001b[0m\n",
            "\u001b[0;31mURLError\u001b[0m: <urlopen error [Errno 110] Connection timed out>"
          ]
        }
      ],
      "source": [
        "from animaloc.models import HerdNet\n",
        "from torch import Tensor\n",
        "from animaloc.models import LossWrapper\n",
        "from animaloc.train.losses import FocalLoss\n",
        "from torch.nn import CrossEntropyLoss\n",
        "import torch\n",
        "from torch.hub import load_state_dict_from_url\n",
        "\n",
        "#main pth:\n",
        "#url = 'https://download.pytorch.org/models/imagenet/dla34-ba72cf86.pth'\n",
        "\n",
        "#url = 'https://download.pytorch.org/models/vgg16-397923af.pth'\n",
        "url = 'https://download.pytorch.org/models/resnet34-333f7ec4.pth'\n",
        "state_dict = load_state_dict_from_url(url, progress=True)\n",
        "\n",
        "herdnet = HerdNet(num_classes=num_classes, down_ratio=down_ratio)#.cuda()\n",
        "herdnet.load_state_dict(state_dict, strict=False)\n",
        "herdnet = herdnet.cuda()\n",
        "\n",
        "#herdnet = HerdNet(num_classes=num_classes, down_ratio=down_ratio).cuda()\n",
        "#herdnet =\n",
        "\n",
        "weight = Tensor([0.1, 1.0, 2.0, 1.0, 6.0, 12.0, 1.0]).cuda()\n",
        "\n",
        "losses = [\n",
        "    {'loss': FocalLoss(reduction='mean'), 'idx': 0, 'idy': 0, 'lambda': 1.0, 'name': 'focal_loss'},\n",
        "    {'loss': CrossEntropyLoss(reduction='mean', weight=weight), 'idx': 1, 'idy': 1, 'lambda': 1.0, 'name': 'ce_loss'}\n",
        "    ]\n",
        "\n",
        "herdnet = LossWrapper(herdnet, losses=losses)"
      ]
    },
    {
      "cell_type": "markdown",
      "metadata": {
        "id": "Nm5u6yg4V78C"
      },
      "source": [
        "## Create the Trainer"
      ]
    },
    {
      "cell_type": "code",
      "execution_count": null,
      "metadata": {
        "id": "MSBimwtzWDZp"
      },
      "outputs": [],
      "source": [
        "from torch.optim import Adam\n",
        "from animaloc.train import Trainer\n",
        "from animaloc.eval import PointsMetrics, HerdNetStitcher, HerdNetEvaluator\n",
        "from animaloc.utils.useful_funcs import mkdir\n",
        "\n",
        "work_dir = '/content/output'\n",
        "mkdir(work_dir)\n",
        "\n",
        "lr = 1e-4\n",
        "weight_decay = 1e-3\n",
        "epochs = 100\n",
        "\n",
        "optimizer = Adam(params=herdnet.parameters(), lr=lr, weight_decay=weight_decay)\n",
        "\n",
        "metrics = PointsMetrics(radius=20, num_classes=num_classes)\n",
        "\n",
        "stitcher = HerdNetStitcher(\n",
        "    model=herdnet,\n",
        "    size=(patch_size,patch_size),\n",
        "    overlap=160,\n",
        "    down_ratio=down_ratio,\n",
        "    reduction='mean'\n",
        "    )\n",
        "\n",
        "evaluator = HerdNetEvaluator(\n",
        "    model=herdnet,\n",
        "    dataloader=val_dataloader,\n",
        "    metrics=metrics,\n",
        "    stitcher=stitcher,\n",
        "    work_dir=work_dir,\n",
        "    header='validation'\n",
        "    )\n",
        "\n",
        "trainer = Trainer(\n",
        "    model=herdnet,\n",
        "    train_dataloader=train_dataloader,\n",
        "    optimizer=optimizer,\n",
        "    num_epochs=epochs,\n",
        "    evaluator=evaluator,\n",
        "    work_dir=work_dir\n",
        "    )"
      ]
    },
    {
      "cell_type": "markdown",
      "metadata": {
        "id": "axsTtq4WV0ot"
      },
      "source": [
        "## Start training"
      ]
    },
    {
      "cell_type": "code",
      "execution_count": null,
      "metadata": {
        "id": "malFT6r5V4rC"
      },
      "outputs": [],
      "source": [
        "trainer.start(warmup_iters=100, checkpoints='best', select='max', validate_on='f1_score')"
      ]
    },
    {
      "cell_type": "markdown",
      "metadata": {
        "id": "_e0CQd5Bxx5T"
      },
      "source": [
        "## Test the model"
      ]
    },
    {
      "cell_type": "code",
      "execution_count": null,
      "metadata": {
        "id": "D5133GoRz8r_"
      },
      "outputs": [],
      "source": [
        "# Path to your .pth file\n",
        "import gdown\n",
        "\n",
        "pth_path = ''\n",
        "\n",
        "if not pth_path:\n",
        "    gdown.download(\n",
        "        'https://drive.google.com/uc?export=download&id=1-WUnBC4BJMVkNvRqalF_HzA1_pRkQTI_',\n",
        "        '/content/20220413_herdnet_model.pth'\n",
        "        )\n",
        "    pth_path = '/content/20220413_herdnet_model.pth'"
      ]
    },
    {
      "cell_type": "code",
      "execution_count": null,
      "metadata": {
        "id": "VPHXVYWNzVDj"
      },
      "outputs": [],
      "source": [
        "# Create output folder\n",
        "test_dir = '/content/test_output'\n",
        "mkdir(test_dir)"
      ]
    },
    {
      "cell_type": "code",
      "execution_count": null,
      "metadata": {
        "id": "DXUsHk7dzl47"
      },
      "outputs": [],
      "source": [
        "# Load trained parameters\n",
        "from animaloc.models import load_model\n",
        "\n",
        "herdnet = load_model(herdnet, pth_path=pth_path)"
      ]
    },
    {
      "cell_type": "code",
      "execution_count": null,
      "metadata": {
        "id": "lX3Jp883zB-D"
      },
      "outputs": [],
      "source": [
        "# Create an Evaluator\n",
        "test_evaluator = HerdNetEvaluator(\n",
        "    model=herdnet,\n",
        "    dataloader=test_dataloader,\n",
        "    metrics=metrics,\n",
        "    stitcher=stitcher,\n",
        "    work_dir=test_dir,\n",
        "    header='test'\n",
        "    )"
      ]
    },
    {
      "cell_type": "code",
      "execution_count": null,
      "metadata": {
        "id": "CZt_wNle0488"
      },
      "outputs": [],
      "source": [
        "# Start testing\n",
        "test_f1_score = test_evaluator.evaluate(returns='f1_score')"
      ]
    },
    {
      "cell_type": "code",
      "execution_count": null,
      "metadata": {
        "id": "1vICHF-sFGxa"
      },
      "outputs": [],
      "source": [
        "# Print global F1 score (%)\n",
        "print(f\"F1 score = {test_f1_score * 100:0.0f}%\")"
      ]
    },
    {
      "cell_type": "code",
      "execution_count": null,
      "metadata": {
        "id": "ANdn_feR2ZY8"
      },
      "outputs": [],
      "source": [
        "# Get the detections\n",
        "detections = test_evaluator.results\n",
        "detections"
      ]
    }
  ],
  "metadata": {
    "accelerator": "GPU",
    "colab": {
      "provenance": [],
      "gpuType": "A100"
    },
    "kernelspec": {
      "display_name": "Python 3",
      "name": "python3"
    },
    "language_info": {
      "name": "python"
    }
  },
  "nbformat": 4,
  "nbformat_minor": 0
}